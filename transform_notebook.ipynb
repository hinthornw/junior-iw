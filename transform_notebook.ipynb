{
 "cells": [
  {
   "cell_type": "code",
   "execution_count": 1,
   "metadata": {
    "collapsed": true
   },
   "outputs": [],
   "source": [
    "require 'torch'\n",
    "require 'nn'\n",
    "require 'image'\n",
    "-- debug = false"
   ]
  },
  {
   "cell_type": "markdown",
   "metadata": {
    "collapsed": false
   },
   "source": [
    "-- arg = '-i ./images/mnist/last_mnist_adversarial_0_7_6.png -cuda'\n",
    "\n",
    "-- cmd = torch.CmdLine()\n",
    "-- cmd:text('Adversarial network generation')\n",
    "-- cmd:text()\n",
    "-- cmd:text('Options')\n",
    "-- cmd:option('-i', 'none', 'Input image file')\n",
    "-- cmd:option('-g', 'false', 'Greyscale input')\n",
    "-- cmd:option('-o', './images/mnist/transform/', 'Output directory')\n",
    "-- cmd:option('-cuda', false,'CUDA support')\n",
    "-- cmd:option('-gpu', 1,'GPU device number')\n",
    "-- cmd:option('-seed',123,'Random seed')\n",
    "-- cmd:text()\n",
    "-- params = cmd:parse(arg)\n",
    "\n",
    "#### Set parameters"
   ]
  },
  {
   "cell_type": "code",
   "execution_count": 2,
   "metadata": {
    "collapsed": false
   },
   "outputs": [],
   "source": [
    "path = './images/mnist/gen/'\n",
    "greyscale = false\n",
    "outPath = './images/mnist/transform/'\n",
    "cuda = true\n",
    "deviceNum = 1\n",
    "seed = 123\n",
    "threads = 4\n",
    "mnist = true\n",
    "transform = true\n",
    "torch.manualSeed(seed)\n",
    "torch.setdefaulttensortype('torch.FloatTensor')\n",
    "torch.setnumthreads(threads)\n",
    "\n",
    "if cuda then\n",
    "    require 'cutorch'\n",
    "    require 'cunn'\n",
    "    cutorch.setDevice(deviceNum)\n",
    "end"
   ]
  },
  {
   "cell_type": "markdown",
   "metadata": {},
   "source": [
    "### Analyzing Perturbations in adversarial images\n",
    "\n",
    "Currently Working:\n",
    "Generate images.\n",
    "Display images that Tricked network\n",
    "Plot the feature maps in layer X\n",
    "\n",
    "Need to Implement:\n",
    "H\n",
    "\n",
    "Whole effing purpose?\n",
    "Not sure.\n",
    "\n",
    "### Image loading functions\n",
    "\n",
    "Functions to get images in the generated images folder, filter by tag, and load"
   ]
  },
  {
   "cell_type": "code",
   "execution_count": 3,
   "metadata": {
    "collapsed": false
   },
   "outputs": [],
   "source": [
    "-- http://stackoverflow.com/questions/9676113/lua-os-execute-return-value\n",
    "function GetFiles(mask)\n",
    "   local files = {}\n",
    "   local tmpfile = '/tmp/stmp.txt'\n",
    "   os.execute('ls -1 '..mask..' > '..tmpfile)\n",
    "   local f = io.open(tmpfile)\n",
    "   if not f then return files end  \n",
    "   local k = 1\n",
    "   for line in f:lines() do\n",
    "      files[k] = line\n",
    "      k = k + 1\n",
    "   end\n",
    "   f:close()\n",
    "   return files\n",
    " end\n",
    "\n",
    "-- Retrieve files from list matching a certain pattern string_#_#_[any_seed].png\n",
    "function filterFiles(files, target)\n",
    "    local code = target .. '_%d+.png'\n",
    "    local filtered = {}\n",
    "    local k = 1\n",
    "    for key, name in pairs(files) do\n",
    "        if string.find(name, code) then\n",
    "--             if debug == true then\n",
    "--                 print(name)\n",
    "--             end\n",
    "            filtered[k] = name\n",
    "            k = k+1\n",
    "        end            \n",
    "    end  \n",
    "    return filtered\n",
    "end\n",
    "    \n",
    "\n",
    "function getImages(files)\n",
    "    local path = 'images/mnist/gen/'\n",
    "    local adversarial = {}\n",
    "    local distortion = {}\n",
    "    local original= {}\n",
    "    local i = 1\n",
    "    local j = 1\n",
    "    local k = 1\n",
    "    for key, name in pairs(files) do\n",
    "        local fname = path .. name\n",
    "--         if debug == true then\n",
    "--             print(fname)\n",
    "--         end\n",
    "        local size = image.getSize(fname)\n",
    "        if string.find(name, 'adversarial') then\n",
    "            adversarial[i] = image.load(fname, size[1],'byte')\n",
    "            i = i + 1            \n",
    "        elseif string.find(name, 'distortion') then\n",
    "            distortion[j] = image.load(fname, size[1],'byte')\n",
    "            j = j + 1            \n",
    "        elseif string.find(name, 'original') then\n",
    "            original[k] = image.load(fname, size[1],'byte')\n",
    "            k = k + 1\n",
    "        else\n",
    "            print(\"Error reading image filename.\")\n",
    "        end\n",
    "    end\n",
    "    return adversarial, distortion, original   \n",
    "end"
   ]
  },
  {
   "cell_type": "markdown",
   "metadata": {},
   "source": [
    "##### Load Images"
   ]
  },
  {
   "cell_type": "code",
   "execution_count": 69,
   "metadata": {
    "collapsed": false
   },
   "outputs": [
    {
     "data": {
      "text/plain": [
       "Testing file\n",
       "Found 2 samples\t\n",
       "True Label: #9\t\n",
       "Adversarial Prediction: #8\t\n"
      ]
     },
     "execution_count": 69,
     "metadata": {},
     "output_type": "execute_result"
    }
   ],
   "source": [
    "--For sample adversarial image\n",
    "-- Choose the origin and target classes for the images\n",
    "local files = GetFiles('images/mnist/gen')\n",
    "local from = '9'\n",
    "local to = '8'\n",
    "code = from .. '_' .. to\n",
    "filtered = filterFiles(files, code)\n",
    "adv, distort, orig = getImages(filtered)\n",
    "\n",
    "\n",
    "--Strip labels from filename\n",
    "i, j = 0, 0\n",
    "i, j = code:find('[0-9]+')\n",
    "true_label = code:sub(i, j)\n",
    "i, j = code:find('[0-9]+', j+1)\n",
    "adv_label = code:sub(i, j)\n",
    "-- i, j = code:find('[0-9]+', j+1)\n",
    "-- seed = code:sub(i, j)\n",
    "\n",
    "io.write(\"Testing file\\n\")\n",
    "local n = #filtered / 3\n",
    "print(\"Found \".. n .. \" samples\" )\n",
    "print(\"True Label: #\" .. true_label)\n",
    "print(\"Adversarial Prediction: #\" .. adv_label)"
   ]
  },
  {
   "cell_type": "markdown",
   "metadata": {},
   "source": [
    "#### Set path and dataset"
   ]
  },
  {
   "cell_type": "code",
   "execution_count": 5,
   "metadata": {
    "collapsed": false
   },
   "outputs": [
    {
     "data": {
      "text/plain": [
       "Using MNIST\t\n"
      ]
     },
     "execution_count": 5,
     "metadata": {},
     "output_type": "execute_result"
    }
   ],
   "source": [
    "package.path = package.path .. ';./mnist/?.lua;./overfeat/?.lua;./lbfgsb/?.lua;./'\n",
    "\n",
    "if mnist then\n",
    "    print(\"Using MNIST\")\n",
    "\trequire 'mnist_model'\n",
    "\tmnist = require 'mnist_utils'\n",
    "else\n",
    "    print(\"Using ImageNet\")\n",
    "\trequire 'overfeat'\n",
    "end"
   ]
  },
  {
   "cell_type": "markdown",
   "metadata": {},
   "source": [
    "## Measurement Functions\n",
    "\n",
    "##### makePrediction \n",
    "    - allows the current model to predict a label for an inputed image\n",
    "##### showResults\n",
    "    - Prints out whether the prediction was correct, adversarial (i.e. spoofed label), or a different one.\n",
    "##### displayImage() \n",
    "    - Scales an image to 500, 500 so that it is visible\n",
    "###### scaled\n",
    "    - wrapper for scaling images\n",
    "###### diffmontage \n",
    "    - Plots the activations of feature maps at input of adversarial, original, and the difference between the two"
   ]
  },
  {
   "cell_type": "code",
   "execution_count": 42,
   "metadata": {
    "collapsed": false
   },
   "outputs": [],
   "source": [
    "makePrediction = function(x)\n",
    "    if cuda then\n",
    "        return torch.max(net:forward(x):float(), 1)\n",
    "    else \n",
    "        return torch.max(net:forward(x), 1)\n",
    "    end\n",
    "end\n",
    "\n",
    "showResults = function(xform, param, img1, adv_label, true_label)--prob, idx)\n",
    "    local prob\n",
    "    local idx\n",
    "    prob, idx = makePrediction(img1)\n",
    "    local guess = label[idx:squeeze()]\n",
    "    local validity\n",
    "    local result\n",
    "    if tonumber(true_label) == tonumber(guess) then\n",
    "        result = 0\n",
    "    elseif tonumber(guess) == tonumber(adv_label) then\n",
    "        result = 1\n",
    "    else\n",
    "        result = -1\n",
    "    end\n",
    "    io.write(guess,\",\",adv_label,\",\", true_label,\",\", xform,\"\\n\") -- with prob - \",\n",
    "--     print(prob)\n",
    "         -- prob:squeeze() .. \"\\n\")\n",
    "    return result\n",
    "end\n",
    "\n",
    "\n",
    "displayImage = function(x, y)\n",
    "    itorch.image(image.scale(x, y, y, 'simple'))\n",
    "end\n",
    "\n",
    "-- Wrapper for scaling\n",
    "scaled = function(x, y)\n",
    "    return image.scale(x, y, y, 'simple')\n",
    "end\n",
    "\n",
    "montage = function(layer, img)\n",
    "    if cuda then\n",
    "        local imgCuda = img:cuda():reshape(mnist.n)\n",
    "        net:forward(imgCuda)\n",
    "    else\n",
    "        net:forward(img)\n",
    "    end\n",
    "    n = net.modules[layer].output:size()[1]\n",
    "    stack = {}\n",
    "    for i = 1, n do\n",
    "        map = image.scale(net.modules[layer].output[i]:double(), 100, 100, 'simple')\n",
    "        table.insert(stack, map)\n",
    "    end\n",
    "    -- stack.insert{nrow=32}\n",
    "    itorch.image(stack)\n",
    "end\n",
    "\n",
    "\n",
    "diffmontage = function(layer, img1, img2)\n",
    "    local img1Cuda\n",
    "    local img2Cuda\n",
    "    if cuda then\n",
    "        img1Cuda = img1:cuda():reshape(mnist.n)\n",
    "        img2Cuda = img2:cuda():reshape(mnist.n)\n",
    "        net:forward(img1Cuda)\n",
    "    else\n",
    "        net:forward(img1)\n",
    "    end\n",
    "    \n",
    "    \n",
    "    local n = net.modules[layer].output:size()[1]\n",
    "    local stack1 = {}\n",
    "    local stack2 = {}\n",
    "    local stackdiff= {}\n",
    "    for i = 1, n do\n",
    "        table.insert(stackdiff, net.modules[layer].output[i]:double())\n",
    "        map = image.scale(net.modules[layer].output[i]:double(), 100, 100, 'simple')\n",
    "        table.insert(stack1, map)\n",
    "    end    \n",
    "    if cuda then\n",
    "        net:forward(img2Cuda)\n",
    "    else\n",
    "        net:forward(img2)\n",
    "    end\n",
    "    \n",
    "    for i = 1, n do\n",
    "        stackdiff[i] = image.scale(stackdiff[i] - net.modules[layer].output[i]:double(), 100, 100, 'simple')\n",
    "        map = image.scale(net.modules[layer].output[i]:double(), 100, 100, 'simple')\n",
    "        table.insert(stack2, map)\n",
    "    end\n",
    "    -- stack.insert{nrow=32}\n",
    "    io.write(\"Adversarial Maps.\\n\")\n",
    "    itorch.image(stack1)\n",
    "    io.write(\"Original Maps.\\n\")\n",
    "    itorch.image(stack2)\n",
    "    io.write(\"Difference Img1 - Img2.\\n\")\n",
    "    itorch.image(stackdiff)\n",
    "--     print(stackdiff[1])\n",
    "    return stackdiff\n",
    "end\n",
    "\n",
    "function pca(x, n_comp, whitened)\n",
    "    -- Center data\n",
    "    local mean = torch.mean(x, 1)\n",
    "    local x_m = x - torch.ger(torch.ones(x:size(1)), mean:squeeze())\n",
    "\n",
    "    -- Calculate Covariance\n",
    "    local cov = x_m * x_m:t()\n",
    "    --  cov:div(x:size(1) - 1)\n",
    "\n",
    "    -- Get eigenvalues and eigenvectors\n",
    "    local ce, cv = torch.symeig(cov, 'V')\n",
    "    -- Sort eigenvalues\n",
    "    local ce, idx = torch.sort(ce, true)\n",
    "    \n",
    "    -- Sort eigenvectors\n",
    "    cv = cv:index(2, idx:long())\n",
    "\n",
    "    -- Keep only the top\n",
    "--     if n_comp and n_comp < cv:size(2) then\n",
    "--         ce = ce:sub(1, n_comp)\n",
    "--         cv = cv:sub(1, -1, 1, n_comp)\n",
    "--     end\n",
    "\n",
    "    -- Check if whitened version\n",
    "    -- vectors are divided by the singular values to ensure uncorrelated outputs with unit component-wise variances.\n",
    "    if not whitened then\n",
    "        ce:add(1e-5):sqrt()\n",
    "    end\n",
    "\n",
    "    -- Get inverse\n",
    "    local inv_ce = ce:clone():pow(-1)\n",
    "\n",
    "    -- Make it a matrix with diagonal inv_ce\n",
    "    local inv_diag = torch.diag(inv_ce)\n",
    "    \n",
    "    -- Transform to get U\n",
    "    local u = x_m:t() * cv * inv_diag\n",
    "\n",
    "    return u\n",
    "end"
   ]
  },
  {
   "cell_type": "markdown",
   "metadata": {},
   "source": [
    "#### Testing that adversarial imges fool the network"
   ]
  },
  {
   "cell_type": "code",
   "execution_count": 7,
   "metadata": {
    "collapsed": true
   },
   "outputs": [],
   "source": [
    "function check(img1, fname,  adv_label, true_label)\n",
    "    local toTest = img1\n",
    "    if cuda then toTest = toTest:cuda():reshape(mnist.n) end\n",
    "    --Get label\n",
    "    local result = showResults(\"None: \", 0, toTest, adv_label, true_label)\n",
    "    if result == 0 then\n",
    "        io.write(\"Error: image\", fname ,\"classified correctly.\\n\")\n",
    "--     else \n",
    "--         print(\"Image spoofs model. Conducting tests\")\n",
    "    end\n",
    "end"
   ]
  },
  {
   "cell_type": "markdown",
   "metadata": {},
   "source": [
    "##### Check for the initial predictions of each of the adversarial images (may not be what is expected)"
   ]
  },
  {
   "cell_type": "code",
   "execution_count": 8,
   "metadata": {
    "collapsed": false,
    "scrolled": false
   },
   "outputs": [
    {
     "data": {
      "text/plain": [
       "6,6,3,None: \n",
       "8,6,3,None: \n",
       "6,6,3,None: \n"
      ]
     },
     "execution_count": 8,
     "metadata": {},
     "output_type": "execute_result"
    },
    {
     "data": {
      "text/plain": [
       "6,6,3,None: \n",
       "6,6,3,None: \n",
       "6,6,3,None: \n"
      ]
     },
     "execution_count": 8,
     "metadata": {},
     "output_type": "execute_result"
    },
    {
     "data": {
      "text/plain": [
       "6,6,3,None: \n"
      ]
     },
     "execution_count": 8,
     "metadata": {},
     "output_type": "execute_result"
    }
   ],
   "source": [
    "for key, im in pairs(adv) do\n",
    "    check(im, key, adv_label, true_label)\n",
    "end"
   ]
  },
  {
   "cell_type": "code",
   "execution_count": 40,
   "metadata": {
    "collapsed": false
   },
   "outputs": [],
   "source": [
    "--Wrapper to conveniently compare lists\n",
    "function displayLists(adv, orig)\n",
    "    diffs = {}\n",
    "    for i=1,#adv, 1 do\n",
    "        check(adv[i], i, adv_label, true_label)\n",
    "        print(\"Montage \" .. i)\n",
    "        displayImage(adv[i], 500)\n",
    "--         montage(3, adv[i])\n",
    "        diffs[i] = diffmontage(3, adv[i], orig[i])\n",
    "    end\n",
    "    thing = diffs[1]\n",
    "--     print(thing)\n",
    "    for i = 1, #diffs, 1 do    \n",
    "        for j = 1, #diffs[i] do\n",
    "            thing[j] = thing[j] + diffs[i][j]\n",
    "        end\n",
    "    end\n",
    "    itorch.image(thing)\n",
    "end"
   ]
  },
  {
   "cell_type": "markdown",
   "metadata": {},
   "source": [
    "### Map Feature Map back onto original image space\n",
    "\n",
    "- select a specific neuron whose activations you wish to map back to the original image space\n",
    "\n",
    "#### mapBack\n",
    "- Returns the image on the input space of a specific input\n",
    "\n",
    "#### projectDiffs\n",
    "- Wrapper function to compare the projections of two different inputs (i.e. the adversarial and original images\n",
    "\n",
    "#### montageProjections\n",
    "- Wrapper function to go through each input in parallel tables and call projectDiffs. Returns a table of difference images\n",
    "\n",
    "#### mapLayer\n",
    "- Wrapper that iterates through all neurons in a layer and sums the projections on the input space"
   ]
  },
  {
   "cell_type": "code",
   "execution_count": 27,
   "metadata": {
    "collapsed": false,
    "scrolled": true
   },
   "outputs": [],
   "source": [
    "function mapBack(net, layer, neuron, img)\n",
    "    local testNet = net:clone()\n",
    "    local levWeights = testNet.modules[layer].weight:clone()\n",
    "    \n",
    "    --Send forward\n",
    "    testNet:zeroGradParameters()\n",
    "    local output = testNet:forward(img:cuda())\n",
    "    for i=1, (#levWeights:squeeze())[1], 1 do\n",
    "        if i ~= neuron then\n",
    "            testNet.modules[layer].weight[i] = 0.0\n",
    "        else\n",
    "            testNet.modules[layer].weight[i] = 1.0\n",
    "        end\n",
    "    end\n",
    "    --send backward\n",
    "    local gradInput = testNet:backward(img:cuda(), output)\n",
    "    return(gradInput:double())\n",
    "end\n",
    "\n",
    "\n",
    "function projectDiffs(net, layer, neuron, img1, img2)\n",
    "    proj1 = mapBack(net, layer, neuron, img1)\n",
    "    proj2 = mapBack(net, layer, neuron, img2)\n",
    "    return proj2 - proj1\n",
    "end\n",
    "\n",
    "function montage_projections(net, layer, neuron, adv, orig)\n",
    "    differences = {}\n",
    "    for i=1, #adv, 1 do\n",
    "        differences[i] = projectDiffs(net, layer, neuron, adv[i], orig[i])\n",
    "--         displayImage(differences[i], 200)        \n",
    "    end\n",
    "    return differences\n",
    "end"
   ]
  },
  {
   "cell_type": "code",
   "execution_count": 70,
   "metadata": {
    "collapsed": false,
    "scrolled": false
   },
   "outputs": [
    {
     "data": {
      "image/png": "[encoded data removed]",
      "text/plain": [
       "Console does not support images"
      ]
     },
     "metadata": {
      "image/png": {
       "height": 200,
       "width": 200
      }
     },
     "output_type": "display_data"
    },
    {
     "data": {
      "image/png": "[encoded data removed]",
      "text/plain": [
       "Console does not support images"
      ]
     },
     "metadata": {
      "image/png": {
       "height": 200,
       "width": 200
      }
     },
     "output_type": "display_data"
    },
    {
     "data": {
      "image/png": "[encoded data removed]",
      "text/plain": [
       "Console does not support images"
      ]
     },
     "metadata": {
      "image/png": {
       "height": 200,
       "width": 200
      }
     },
     "output_type": "display_data"
    },
    {
     "data": {
      "image/png": "[encoded data removed]",
      "text/plain": [
       "Console does not support images"
      ]
     },
     "metadata": {
      "image/png": {
       "height": 200,
       "width": 200
      }
     },
     "output_type": "display_data"
    }
   ],
   "source": [
    "for i=1, #adv do\n",
    "   displayImage(adv[i], 200) \n",
    "   displayImage(orig[i], 200)\n",
    "end"
   ]
  },
  {
   "cell_type": "code",
   "execution_count": 63,
   "metadata": {
    "collapsed": false,
    "scrolled": false
   },
   "outputs": [],
   "source": [
    "function mapLayer(net, layer, adv, orig)\n",
    "    local size = #adv\n",
    "    local largeSum = torch.DoubleTensor(#net.modules[2].output):zero() -- hardcode reshaped data in\n",
    "    for i=1, (#net.modules[layer].weight)[1] do\n",
    "        local differences = montage_projections(net, layer, i, adv, orig)\n",
    "        local sum = torch.DoubleTensor(#differences[1]):zero()\n",
    "        for i = 1,#differences do\n",
    "            sum = sum + differences[i]\n",
    "        end    \n",
    "        largeSum = largeSum + sum\n",
    "        displayImage(sum, 100)\n",
    "    end\n",
    "    displayImage(largeSum, 500)\n",
    "end"
   ]
  },
  {
   "cell_type": "code",
   "execution_count": 72,
   "metadata": {
    "collapsed": false,
    "scrolled": false
   },
   "outputs": [
    {
     "data": {
      "image/png": "[encoded data removed]",
      "text/plain": [
       "Console does not support images"
      ]
     },
     "metadata": {
      "image/png": {
       "height": 100,
       "width": 100
      }
     },
     "output_type": "display_data"
    },
    {
     "data": {
      "image/png": "[encoded data removed]",
      "text/plain": [
       "Console does not support images"
      ]
     },
     "metadata": {
      "image/png": {
       "height": 100,
       "width": 100
      }
     },
     "output_type": "display_data"
    },
    {
     "data": {
      "image/png": "[encoded data removed]",
      "text/plain": [
       "Console does not support images"
      ]
     },
     "metadata": {
      "image/png": {
       "height": 100,
       "width": 100
      }
     },
     "output_type": "display_data"
    },
    {
     "data": {
      "image/png": "[encoded data removed]",
      "text/plain": [
       "Console does not support images"
      ]
     },
     "metadata": {
      "image/png": {
       "height": 100,
       "width": 100
      }
     },
     "output_type": "display_data"
    },
    {
     "data": {
      "image/png": "[encoded data removed]",
      "text/plain": [
       "Console does not support images"
      ]
     },
     "metadata": {
      "image/png": {
       "height": 100,
       "width": 100
      }
     },
     "output_type": "display_data"
    },
    {
     "data": {
      "image/png": "[encoded data removed]",
      "text/plain": [
       "Console does not support images"
      ]
     },
     "metadata": {
      "image/png": {
       "height": 100,
       "width": 100
      }
     },
     "output_type": "display_data"
    },
    {
     "data": {
      "image/png": "[encoded data removed]",
      "text/plain": [
       "Console does not support images"
      ]
     },
     "metadata": {
      "image/png": {
       "height": 100,
       "width": 100
      }
     },
     "output_type": "display_data"
    },
    {
     "data": {
      "image/png": "[encoded data removed]",
      "text/plain": [
       "Console does not support images"
      ]
     },
     "metadata": {
      "image/png": {
       "height": 100,
       "width": 100
      }
     },
     "output_type": "display_data"
    },
    {
     "data": {
      "image/png": "[encoded data removed]",
      "text/plain": [
       "Console does not support images"
      ]
     },
     "metadata": {
      "image/png": {
       "height": 100,
       "width": 100
      }
     },
     "output_type": "display_data"
    },
    {
     "data": {
      "image/png": "[encoded data removed]",
      "text/plain": [
       "Console does not support images"
      ]
     },
     "metadata": {
      "image/png": {
       "height": 100,
       "width": 100
      }
     },
     "output_type": "display_data"
    },
    {
     "data": {
      "image/png": "[encoded data removed]",
      "text/plain": [
       "Console does not support images"
      ]
     },
     "metadata": {
      "image/png": {
       "height": 100,
       "width": 100
      }
     },
     "output_type": "display_data"
    },
    {
     "data": {
      "image/png": "[encoded data removed]",
      "text/plain": [
       "Console does not support images"
      ]
     },
     "metadata": {
      "image/png": {
       "height": 100,
       "width": 100
      }
     },
     "output_type": "display_data"
    },
    {
     "data": {
      "image/png": "[encoded data removed]",
      "text/plain": [
       "Console does not support images"
      ]
     },
     "metadata": {
      "image/png": {
       "height": 100,
       "width": 100
      }
     },
     "output_type": "display_data"
    },
    {
     "data": {
      "image/png": "[encoded data removed]",
      "text/plain": [
       "Console does not support images"
      ]
     },
     "metadata": {
      "image/png": {
       "height": 100,
       "width": 100
      }
     },
     "output_type": "display_data"
    },
    {
     "data": {
      "image/png": "[encoded data removed]",
      "text/plain": [
       "Console does not support images"
      ]
     },
     "metadata": {
      "image/png": {
       "height": 100,
       "width": 100
      }
     },
     "output_type": "display_data"
    },
    {
     "data": {
      "image/png": "[encoded data removed]",
      "text/plain": [
       "Console does not support images"
      ]
     },
     "metadata": {
      "image/png": {
       "height": 100,
       "width": 100
      }
     },
     "output_type": "display_data"
    },
    {
     "data": {
      "image/png": "[encoded data removed]",
      "text/plain": [
       "Console does not support images"
      ]
     },
     "metadata": {
      "image/png": {
       "height": 100,
       "width": 100
      }
     },
     "output_type": "display_data"
    },
    {
     "data": {
      "image/png": "[encoded data removed]",
      "text/plain": [
       "Console does not support images"
      ]
     },
     "metadata": {
      "image/png": {
       "height": 100,
       "width": 100
      }
     },
     "output_type": "display_data"
    },
    {
     "data": {
      "image/png": "[encoded data removed]",
      "text/plain": [
       "Console does not support images"
      ]
     },
     "metadata": {
      "image/png": {
       "height": 100,
       "width": 100
      }
     },
     "output_type": "display_data"
    },
    {
     "data": {
      "image/png": "[encoded data removed]",
      "text/plain": [
       "Console does not support images"
      ]
     },
     "metadata": {
      "image/png": {
       "height": 100,
       "width": 100
      }
     },
     "output_type": "display_data"
    },
    {
     "data": {
      "image/png": "[encoded data removed]",
      "text/plain": [
       "Console does not support images"
      ]
     },
     "metadata": {
      "image/png": {
       "height": 100,
       "width": 100
      }
     },
     "output_type": "display_data"
    },
    {
     "data": {
      "image/png": "[encoded data removed]",
      "text/plain": [
       "Console does not support images"
      ]
     },
     "metadata": {
      "image/png": {
       "height": 100,
       "width": 100
      }
     },
     "output_type": "display_data"
    },
    {
     "data": {
      "image/png": "[encoded data removed]",
      "text/plain": [
       "Console does not support images"
      ]
     },
     "metadata": {
      "image/png": {
       "height": 100,
       "width": 100
      }
     },
     "output_type": "display_data"
    },
    {
     "data": {
      "image/png": "[encoded data removed]",
      "text/plain": [
       "Console does not support images"
      ]
     },
     "metadata": {
      "image/png": {
       "height": 100,
       "width": 100
      }
     },
     "output_type": "display_data"
    },
    {
     "data": {
      "image/png": "[encoded data removed]",
      "text/plain": [
       "Console does not support images"
      ]
     },
     "metadata": {
      "image/png": {
       "height": 100,
       "width": 100
      }
     },
     "output_type": "display_data"
    },
    {
     "data": {
      "image/png": "[encoded data removed]",
      "text/plain": [
       "Console does not support images"
      ]
     },
     "metadata": {
      "image/png": {
       "height": 100,
       "width": 100
      }
     },
     "output_type": "display_data"
    },
    {
     "data": {
      "image/png": "[encoded data removed]",
      "text/plain": [
       "Console does not support images"
      ]
     },
     "metadata": {
      "image/png": {
       "height": 100,
       "width": 100
      }
     },
     "output_type": "display_data"
    },
    {
     "data": {
      "image/png": "[encoded data removed]",
      "text/plain": [
       "Console does not support images"
      ]
     },
     "metadata": {
      "image/png": {
       "height": 100,
       "width": 100
      }
     },
     "output_type": "display_data"
    },
    {
     "data": {
      "image/png": "[encoded data removed]",
      "text/plain": [
       "Console does not support images"
      ]
     },
     "metadata": {
      "image/png": {
       "height": 100,
       "width": 100
      }
     },
     "output_type": "display_data"
    },
    {
     "data": {
      "image/png": "[encoded data removed]",
      "text/plain": [
       "Console does not support images"
      ]
     },
     "metadata": {
      "image/png": {
       "height": 100,
       "width": 100
      }
     },
     "output_type": "display_data"
    },
    {
     "data": {
      "image/png": "[encoded data removed]",
      "text/plain": [
       "Console does not support images"
      ]
     },
     "metadata": {
      "image/png": {
       "height": 100,
       "width": 100
      }
     },
     "output_type": "display_data"
    },
    {
     "data": {
      "image/png": "[encoded data removed]",
      "text/plain": [
       "Console does not support images"
      ]
     },
     "metadata": {
      "image/png": {
       "height": 100,
       "width": 100
      }
     },
     "output_type": "display_data"
    },
    {
     "data": {
      "image/png": "[encoded data removed]",
      "text/plain": [
       "Console does not support images"
      ]
     },
     "metadata": {
      "image/png": {
       "height": 100,
       "width": 100
      }
     },
     "output_type": "display_data"
    },
    {
     "data": {
      "image/png": "[encoded data removed]",
      "text/plain": [
       "Console does not support images"
      ]
     },
     "metadata": {
      "image/png": {
       "height": 100,
       "width": 100
      }
     },
     "output_type": "display_data"
    },
    {
     "data": {
      "image/png": "[encoded data removed]",
      "text/plain": [
       "Console does not support images"
      ]
     },
     "metadata": {
      "image/png": {
       "height": 100,
       "width": 100
      }
     },
     "output_type": "display_data"
    },
    {
     "data": {
      "image/png": "[encoded data removed]",
      "text/plain": [
       "Console does not support images"
      ]
     },
     "metadata": {
      "image/png": {
       "height": 100,
       "width": 100
      }
     },
     "output_type": "display_data"
    },
    {
     "data": {
      "image/png": "[encoded data removed]",
      "text/plain": [
       "Console does not support images"
      ]
     },
     "metadata": {
      "image/png": {
       "height": 100,
       "width": 100
      }
     },
     "output_type": "display_data"
    },
    {
     "data": {
      "image/png": "[encoded data removed]",
      "text/plain": [
       "Console does not support images"
      ]
     },
     "metadata": {
      "image/png": {
       "height": 100,
       "width": 100
      }
     },
     "output_type": "display_data"
    },
    {
     "data": {
      "image/png": "[encoded data removed]",
      "text/plain": [
       "Console does not support images"
      ]
     },
     "metadata": {
      "image/png": {
       "height": 100,
       "width": 100
      }
     },
     "output_type": "display_data"
    },
    {
     "data": {
      "image/png": "[encoded data removed]",
      "text/plain": [
       "Console does not support images"
      ]
     },
     "metadata": {
      "image/png": {
       "height": 100,
       "width": 100
      }
     },
     "output_type": "display_data"
    },
    {
     "data": {
      "image/png": "[encoded data removed]",
      "text/plain": [
       "Console does not support images"
      ]
     },
     "metadata": {
      "image/png": {
       "height": 100,
       "width": 100
      }
     },
     "output_type": "display_data"
    },
    {
     "data": {
      "image/png": "[encoded data removed]",
      "text/plain": [
       "Console does not support images"
      ]
     },
     "metadata": {
      "image/png": {
       "height": 100,
       "width": 100
      }
     },
     "output_type": "display_data"
    },
    {
     "data": {
      "image/png": "[encoded data removed]",
      "text/plain": [
       "Console does not support images"
      ]
     },
     "metadata": {
      "image/png": {
       "height": 100,
       "width": 100
      }
     },
     "output_type": "display_data"
    },
    {
     "data": {
      "image/png": "[encoded data removed]",
      "text/plain": [
       "Console does not support images"
      ]
     },
     "metadata": {
      "image/png": {
       "height": 100,
       "width": 100
      }
     },
     "output_type": "display_data"
    },
    {
     "data": {
      "image/png": "[encoded data removed]",
      "text/plain": [
       "Console does not support images"
      ]
     },
     "metadata": {
      "image/png": {
       "height": 100,
       "width": 100
      }
     },
     "output_type": "display_data"
    },
    {
     "data": {
      "image/png": "[encoded data removed]",
      "text/plain": [
       "Console does not support images"
      ]
     },
     "metadata": {
      "image/png": {
       "height": 100,
       "width": 100
      }
     },
     "output_type": "display_data"
    },
    {
     "data": {
      "image/png": "[encoded data removed]",
      "text/plain": [
       "Console does not support images"
      ]
     },
     "metadata": {
      "image/png": {
       "height": 100,
       "width": 100
      }
     },
     "output_type": "display_data"
    },
    {
     "data": {
      "image/png": "[encoded data removed]",
      "text/plain": [
       "Console does not support images"
      ]
     },
     "metadata": {
      "image/png": {
       "height": 100,
       "width": 100
      }
     },
     "output_type": "display_data"
    },
    {
     "data": {
      "image/png": "[encoded data removed]",
      "text/plain": [
       "Console does not support images"
      ]
     },
     "metadata": {
      "image/png": {
       "height": 100,
       "width": 100
      }
     },
     "output_type": "display_data"
    },
    {
     "data": {
      "image/png": "[encoded data removed]",
      "text/plain": [
       "Console does not support images"
      ]
     },
     "metadata": {
      "image/png": {
       "height": 100,
       "width": 100
      }
     },
     "output_type": "display_data"
    },
    {
     "data": {
      "image/png": "[encoded data removed]",
      "text/plain": [
       "Console does not support images"
      ]
     },
     "metadata": {
      "image/png": {
       "height": 100,
       "width": 100
      }
     },
     "output_type": "display_data"
    },
    {
     "data": {
      "image/png": "[encoded data removed]",
      "text/plain": [
       "Console does not support images"
      ]
     },
     "metadata": {
      "image/png": {
       "height": 100,
       "width": 100
      }
     },
     "output_type": "display_data"
    },
    {
     "data": {
      "image/png": "[encoded data removed]",
      "text/plain": [
       "Console does not support images"
      ]
     },
     "metadata": {
      "image/png": {
       "height": 100,
       "width": 100
      }
     },
     "output_type": "display_data"
    },
    {
     "data": {
      "image/png": "[encoded data removed]",
      "text/plain": [
       "Console does not support images"
      ]
     },
     "metadata": {
      "image/png": {
       "height": 100,
       "width": 100
      }
     },
     "output_type": "display_data"
    },
    {
     "data": {
      "image/png": "[encoded data removed]",
      "text/plain": [
       "Console does not support images"
      ]
     },
     "metadata": {
      "image/png": {
       "height": 100,
       "width": 100
      }
     },
     "output_type": "display_data"
    },
    {
     "data": {
      "image/png": "[encoded data removed]",
      "text/plain": [
       "Console does not support images"
      ]
     },
     "metadata": {
      "image/png": {
       "height": 100,
       "width": 100
      }
     },
     "output_type": "display_data"
    },
    {
     "data": {
      "image/png": "[encoded data removed]",
      "text/plain": [
       "Console does not support images"
      ]
     },
     "metadata": {
      "image/png": {
       "height": 100,
       "width": 100
      }
     },
     "output_type": "display_data"
    },
    {
     "data": {
      "image/png": "[encoded data removed]",
      "text/plain": [
       "Console does not support images"
      ]
     },
     "metadata": {
      "image/png": {
       "height": 100,
       "width": 100
      }
     },
     "output_type": "display_data"
    },
    {
     "data": {
      "image/png": "[encoded data removed]",
      "text/plain": [
       "Console does not support images"
      ]
     },
     "metadata": {
      "image/png": {
       "height": 100,
       "width": 100
      }
     },
     "output_type": "display_data"
    },
    {
     "data": {
      "image/png": "[encoded data removed]",
      "text/plain": [
       "Console does not support images"
      ]
     },
     "metadata": {
      "image/png": {
       "height": 100,
       "width": 100
      }
     },
     "output_type": "display_data"
    },
    {
     "data": {
      "image/png": "[encoded data removed]",
      "text/plain": [
       "Console does not support images"
      ]
     },
     "metadata": {
      "image/png": {
       "height": 100,
       "width": 100
      }
     },
     "output_type": "display_data"
    },
    {
     "data": {
      "image/png": "[encoded data removed]",
      "text/plain": [
       "Console does not support images"
      ]
     },
     "metadata": {
      "image/png": {
       "height": 100,
       "width": 100
      }
     },
     "output_type": "display_data"
    },
    {
     "data": {
      "image/png": "[encoded data removed]",
      "text/plain": [
       "Console does not support images"
      ]
     },
     "metadata": {
      "image/png": {
       "height": 100,
       "width": 100
      }
     },
     "output_type": "display_data"
    },
    {
     "data": {
      "image/png": "[encoded data removed]",
      "text/plain": [
       "Console does not support images"
      ]
     },
     "metadata": {
      "image/png": {
       "height": 100,
       "width": 100
      }
     },
     "output_type": "display_data"
    },
    {
     "data": {
      "image/png": "[encoded data removed]",
      "text/plain": [
       "Console does not support images"
      ]
     },
     "metadata": {
      "image/png": {
       "height": 500,
       "width": 500
      }
     },
     "output_type": "display_data"
    },
    {
     "data": {
      "text/plain": [
       "\n"
      ]
     },
     "execution_count": 72,
     "metadata": {},
     "output_type": "execute_result"
    }
   ],
   "source": [
    "mapLayer(net, 6, adv, orig)"
   ]
  },
  {
   "cell_type": "code",
   "execution_count": null,
   "metadata": {
    "collapsed": false,
    "scrolled": true
   },
   "outputs": [],
   "source": [
    "displayLists(adv, orig)"
   ]
  },
  {
   "cell_type": "code",
   "execution_count": null,
   "metadata": {
    "collapsed": false
   },
   "outputs": [],
   "source": [
    "-- net.modules[6]"
   ]
  },
  {
   "cell_type": "code",
   "execution_count": null,
   "metadata": {
    "collapsed": false,
    "scrolled": false
   },
   "outputs": [],
   "source": [
    "local res1 = mapBack(net, 6, 5, adv[2], adv[1])\n",
    "local res2 = mapBack(net, 6, 5, orig[2], adv[1])\n",
    "displayImage(res2 - res1)"
   ]
  },
  {
   "cell_type": "code",
   "execution_count": null,
   "metadata": {
    "collapsed": false,
    "scrolled": false
   },
   "outputs": [],
   "source": [
    "-- print((#net.modules[6].gradInput:squeeze())[1])\n",
    "-- for i=1, (#net.modules[6].gradInput:squeeze())[1] do\n",
    "--     itorch.image(net.modules[6].gradInput:squeeze()[i])\n",
    "-- end\n",
    "\n",
    "-- local i = 1\n",
    "-- local output = net:forward(adv[i]:cuda())\n",
    "-- net:zeroGradParameters()\n",
    "-- local gradInput = net:backward(adv[i]:cuda(), output)\n",
    "-- displayImage(adv[i])\n",
    "-- displayImage(gradInput:double())\n",
    "-- output = net:forward(adv[i]:cuda())\n",
    "-- gradInput = net:backward(adv[i]:cuda(), output)\n",
    "-- displayImage(gradInput:double())\n",
    "-- -- displayImage(adv[2])"
   ]
  },
  {
   "cell_type": "code",
   "execution_count": null,
   "metadata": {
    "collapsed": true
   },
   "outputs": [],
   "source": [
    "mapBack(net, 6, 10, orig[1], adv[1])"
   ]
  },
  {
   "cell_type": "code",
   "execution_count": null,
   "metadata": {
    "collapsed": true
   },
   "outputs": [],
   "source": [
    "net.modules[6].weight"
   ]
  },
  {
   "cell_type": "code",
   "execution_count": null,
   "metadata": {
    "collapsed": true
   },
   "outputs": [],
   "source": [
    "testNet.modules[6].weight[{{2,64}}] = 0.0"
   ]
  },
  {
   "cell_type": "code",
   "execution_count": null,
   "metadata": {
    "collapsed": false
   },
   "outputs": [],
   "source": [
    "torch.mean(img:double(), 1)"
   ]
  },
  {
   "cell_type": "code",
   "execution_count": null,
   "metadata": {
    "collapsed": false
   },
   "outputs": [],
   "source": [
    "torch.ger(torch.ones(img:size()), torch.mean(img:float(), 1):squeeze())"
   ]
  },
  {
   "cell_type": "code",
   "execution_count": null,
   "metadata": {
    "collapsed": true
   },
   "outputs": [],
   "source": [
    "project = testNet:backward(toTest, outTest):reshape(32, 32)"
   ]
  },
  {
   "cell_type": "code",
   "execution_count": null,
   "metadata": {
    "collapsed": false
   },
   "outputs": [],
   "source": [
    "function pca(x)\n",
    "   x = x:squeeze()\n",
    "   local mean = torch.mean(x,1)\n",
    "   local xm = x - mean:expandAs(x)\n",
    "   xm:div(math.sqrt(x:size(1)-1))\n",
    "   local w,s,v = torch.svd(xm:t())\n",
    "   s:cmul(s)\n",
    "   return s,w\n",
    "end"
   ]
  },
  {
   "cell_type": "code",
   "execution_count": null,
   "metadata": {
    "collapsed": false
   },
   "outputs": [],
   "source": [
    "s, w = pca(img_original:double())"
   ]
  },
  {
   "cell_type": "code",
   "execution_count": null,
   "metadata": {
    "collapsed": false,
    "scrolled": true
   },
   "outputs": [],
   "source": [
    "w = w[{{1, 32},{5,32}}]"
   ]
  },
  {
   "cell_type": "code",
   "execution_count": null,
   "metadata": {
    "collapsed": false
   },
   "outputs": [],
   "source": [
    "print(#w)"
   ]
  },
  {
   "cell_type": "code",
   "execution_count": null,
   "metadata": {
    "collapsed": false
   },
   "outputs": [],
   "source": [
    "itorch.image(image.scale(img:squeeze():float() * w:float() * w:float():t(), 150, 150, 'simple'))\n",
    "itorch.image(image.scale(img_original:squeeze():float() * w:float() * w:float():t(), 150, 150, 'simple'))"
   ]
  },
  {
   "cell_type": "code",
   "execution_count": null,
   "metadata": {
    "collapsed": false
   },
   "outputs": [],
   "source": [
    "itorch.image(image.scale(img_original:squeeze(), 150, 150, 'simple'))"
   ]
  },
  {
   "cell_type": "code",
   "execution_count": null,
   "metadata": {
    "collapsed": false
   },
   "outputs": [],
   "source": [
    "itorch.image(image.scale(img_original:squeeze():double():cmul(w):cmul(w:t()), 150, 150, 'simple'))"
   ]
  },
  {
   "cell_type": "code",
   "execution_count": null,
   "metadata": {
    "collapsed": false
   },
   "outputs": [],
   "source": [
    "itorch.image(image.scale(project:float(), 150, 150, 'simple'))"
   ]
  },
  {
   "cell_type": "markdown",
   "metadata": {},
   "source": [
    "### Need to add a function to VISUALIZE a given convolutional layer"
   ]
  },
  {
   "cell_type": "markdown",
   "metadata": {},
   "source": [
    "I.e. given a particular input, display the activations of layers vis a vis the original."
   ]
  },
  {
   "cell_type": "code",
   "execution_count": null,
   "metadata": {
    "collapsed": false
   },
   "outputs": [],
   "source": [
    "itorch.image(img)\n",
    "itorch.image(img - img_original)"
   ]
  },
  {
   "cell_type": "code",
   "execution_count": null,
   "metadata": {
    "collapsed": false
   },
   "outputs": [],
   "source": [
    "net.modules"
   ]
  },
  {
   "cell_type": "code",
   "execution_count": null,
   "metadata": {
    "collapsed": false
   },
   "outputs": [],
   "source": [
    "-- Rotate to +/- 45 degrees using simple interpolation\n",
    "print('Rotating image')\n",
    "for i = -45, 45, 5 do\n",
    "\tlocal imgRot = image.rotate(img, i * math.pi/180, mode)\n",
    "\tlocal toTest = imgRot\n",
    "\tif cuda then toTest = toTest:cuda():reshape(mnist.n) end\n",
    "\t--Get label\n",
    "\tlocal prob, idx = makePrediction(toTest)\n",
    "\tlocal result = showResults(\"Rotate\", i, prob, idx)\n",
    "\tif result == -1 then\n",
    "        displayImage(imgRot)\n",
    "        montage(3)\n",
    "\t\timage.save(outPath .. save_name .. '_rotated_' .. 'strange_' .. i .. '.png', imgRot)\n",
    "\telseif result == 0 then\n",
    "\t\timage.save(outPath .. save_name .. '_rotated_' .. 'correct_' .. i .. '.png', imgRot)\n",
    "\tend\n",
    "end"
   ]
  },
  {
   "cell_type": "code",
   "execution_count": null,
   "metadata": {
    "collapsed": false
   },
   "outputs": [],
   "source": [
    "net.modules"
   ]
  },
  {
   "cell_type": "code",
   "execution_count": null,
   "metadata": {
    "collapsed": false
   },
   "outputs": [],
   "source": [
    "--Random noise\n",
    "print('Adding Random Gaussian noise')\n",
    "for i = 0, 255, 5 do\n",
    "\tlocal r = (torch.rand(size[2], size[3]) * i - (i/2)):floor()\n",
    "\t-- print(r)\n",
    "\tlocal imgNoise = img:float():add(r)\n",
    "\t-- print(imgNoise)\n",
    "\tlocal min = imgNoise:min()\n",
    "\tlocal max = imgNoise:max()\n",
    "\t--Renormalize values in [0, 255)\n",
    "\timgNoise = imgNoise:add(-min):div((max-min)/255.0):floor():byte()\n",
    "\tlocal toTest = imgNoise\n",
    "\tif cuda then toTest = toTest:cuda():reshape(mnist.n) end\n",
    "\t--Get label\n",
    "\tlocal prob, idx = makePrediction(toTest)\n",
    "\tlocal result = showResults(\"Random Noise\", i, prob, idx)\n",
    "\tif result == -1 then\n",
    "\t\timage.save(outPath .. save_name .. '_rand_noise_' .. 'strange_' .. i .. '.png', imgNoise)\n",
    "\telseif result == 0 then\n",
    "\t\timage.save(outPath .. save_name .. '_rand_noise_' .. 'correct_' .. i .. '.png', imgNoise)\n",
    "\tend\n",
    "end"
   ]
  },
  {
   "cell_type": "code",
   "execution_count": null,
   "metadata": {
    "collapsed": true
   },
   "outputs": [],
   "source": [
    "--Try a negative image\n",
    "print('Negative Scaled Image')\n",
    "local toTest = -img + 255\n",
    "local norm = toTest:clone()\n",
    "if cuda then toTest = toTest:cuda():reshape(mnist.n) end\n",
    "--Get label\n",
    "local prob, idx = makePrediction(toTest)\n",
    "local result = showResults(\"Negative Image\", -1, prob, idx)\n",
    "if result == -1 then\n",
    "\timage.save(outPath .. save_name .. '_negative_' .. 'strange_' .. i .. '.png', norm)\n",
    "elseif result == 0 then\n",
    "\timage.save(outPath .. save_name .. '_negative_' .. 'correct_' .. i .. '.png', norm)\n",
    "end"
   ]
  },
  {
   "cell_type": "code",
   "execution_count": null,
   "metadata": {
    "collapsed": false
   },
   "outputs": [],
   "source": [
    "--Subtract adverserial mean from the adv image\n",
    "print('Subtracting the mean of the adversarial spoofed label')\n",
    "\n",
    "for i = 0, 0.5, 0.025 do \n",
    "\tlocal toTest = img:float():add(-i*mnist.means[adv_label+1])\n",
    "\t--Renormalize\n",
    "\tlocal min = toTest:min()\n",
    "\tlocal max = toTest:max()\n",
    "\t--Renormalize values in [0, 255)\n",
    "\ttoTest = toTest:add(-min):div((max-min)/255.0):floor():byte()\n",
    "\tlocal norm = toTest:clone()\n",
    "\tif cuda then toTest = toTest:cuda():reshape(mnist.n) end\n",
    "\t--Get label\n",
    "\tlocal prob, idx = makePrediction(toTest)\n",
    "\tlocal result = showResults(\"Subtract Adv Mean\", i, prob, idx)\n",
    "\tif result == -1 then\n",
    "        montage(3)\n",
    "\t\timage.save(outPath .. save_name .. '_sub_adv_mean_' .. 'strange_' .. i .. '.png', norm)\n",
    "\telseif result == 0 then\n",
    "        montage(3)\n",
    "\t\timage.save(outPath .. save_name .. '_sub_adv_mean_' .. 'correct_' .. i .. '.png', norm)\n",
    "\tend\n",
    "\n",
    "end"
   ]
  },
  {
   "cell_type": "code",
   "execution_count": null,
   "metadata": {
    "collapsed": false
   },
   "outputs": [],
   "source": [
    "net.modules"
   ]
  },
  {
   "cell_type": "code",
   "execution_count": null,
   "metadata": {
    "collapsed": true
   },
   "outputs": [],
   "source": [
    "--Apply a gaussian filter\n",
    "print('Try adding gaussian blur')\n",
    "local kern = image.gaussian()\n",
    "print(kern)\n",
    "toTest = img:float()\n",
    "toTest = image.convolve(toTest, kern, 'same'):byte()\n",
    "local norm = toTest:clone()\n",
    "if cuda then toTest = toTest:cuda():reshape(mnist.n) end\n",
    "--Get label\n",
    "local prob, idx = makePrediction(toTest)\n",
    "local result = showResults(\"Gaussian Blur\", i, prob, idx)\n",
    "if result == -1 then\n",
    "\timage.save(outPath .. save_name .. '_gaussian_' .. 'strange_' .. i .. '.png', norm)\n",
    "elseif result == 0 then\n",
    "\timage.save(outPath .. save_name .. '_gaussian_' .. 'correct_' .. i .. '.png', norm)\n",
    "end"
   ]
  },
  {
   "cell_type": "code",
   "execution_count": null,
   "metadata": {
    "collapsed": true
   },
   "outputs": [],
   "source": [
    "--Apply a Laplacian filter\n",
    "print('Try adding laplacian filter')\n",
    "local kern = image.laplacian(3, 0.25, 1, true)\n",
    "toTest = norm:float()\n",
    "toTest = image.convolve(toTest, kern, 'same'):byte()\n",
    "local norm = toTest:clone()\n",
    "if cuda then toTest = toTest:cuda():reshape(mnist.n) end\n",
    "--Get label\n",
    "local prob, idx = makePrediction(toTest)\n",
    "local result = showResults(\"Laplacian Blur\", i, prob, idx)\n",
    "\n",
    "if result == -1 then\n",
    "\timage.save(outPath .. save_name .. '_laplacian_' .. 'strange_' .. i .. '.png', norm)\n",
    "elseif result == 0 then\n",
    "\timage.save(outPath .. save_name .. '_laplacian_' .. 'correct_' .. i .. '.png', norm)\n",
    "end"
   ]
  }
 ],
 "metadata": {
  "kernelspec": {
   "display_name": "iTorch",
   "language": "lua",
   "name": "itorch"
  },
  "language_info": {
   "name": "lua",
   "version": "5.1"
  }
 },
 "nbformat": 4,
 "nbformat_minor": 2
}
