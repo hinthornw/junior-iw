{
 "cells": [
  {
   "cell_type": "code",
   "execution_count": 1,
   "metadata": {
    "collapsed": true
   },
   "outputs": [],
   "source": [
    "require 'torch'\n",
    "require 'nn'\n",
    "require 'image'\n",
    "-- debug = false"
   ]
  },
  {
   "cell_type": "markdown",
   "metadata": {
    "collapsed": false
   },
   "source": [
    "-- arg = '-i ./images/mnist/last_mnist_adversarial_0_7_6.png -cuda'\n",
    "\n",
    "-- cmd = torch.CmdLine()\n",
    "-- cmd:text('Adversarial network generation')\n",
    "-- cmd:text()\n",
    "-- cmd:text('Options')\n",
    "-- cmd:option('-i', 'none', 'Input image file')\n",
    "-- cmd:option('-g', 'false', 'Greyscale input')\n",
    "-- cmd:option('-o', './images/mnist/transform/', 'Output directory')\n",
    "-- cmd:option('-cuda', false,'CUDA support')\n",
    "-- cmd:option('-gpu', 1,'GPU device number')\n",
    "-- cmd:option('-seed',123,'Random seed')\n",
    "-- cmd:text()\n",
    "-- params = cmd:parse(arg)\n",
    "\n",
    "#### Set parameters"
   ]
  },
  {
   "cell_type": "code",
   "execution_count": 2,
   "metadata": {
    "collapsed": false
   },
   "outputs": [],
   "source": [
    "path = './images/mnist/gen/'\n",
    "greyscale = false\n",
    "outPath = './images/mnist/transform/'\n",
    "cuda = true\n",
    "deviceNum = 1\n",
    "seed = 123\n",
    "threads = 4\n",
    "mnist = true\n",
    "transform = true\n",
    "torch.manualSeed(seed)\n",
    "torch.setdefaulttensortype('torch.FloatTensor')\n",
    "torch.setnumthreads(threads)\n",
    "\n",
    "if cuda then\n",
    "    require 'cutorch'\n",
    "    require 'cunn'\n",
    "    cutorch.setDevice(deviceNum)\n",
    "end"
   ]
  },
  {
   "cell_type": "markdown",
   "metadata": {},
   "source": [
    "### Analyzing Perturbations in adversarial images\n",
    "\n",
    "Currently Working:\n",
    "Generate images.\n",
    "Display images that Tricked network\n",
    "Plot the feature maps in layer X\n",
    "\n",
    "Need to Implement:\n",
    "H\n",
    "\n",
    "Whole effing purpose?\n",
    "Not sure.\n",
    "\n",
    "### Image loading functions\n",
    "\n",
    "Functions to get images in the generated images folder, filter by tag, and load"
   ]
  },
  {
   "cell_type": "code",
   "execution_count": 91,
   "metadata": {
    "collapsed": false
   },
   "outputs": [],
   "source": [
    "-- http://stackoverflow.com/questions/9676113/lua-os-execute-return-value\n",
    "function GetFiles(mask)\n",
    "   local files = {}\n",
    "   local tmpfile = '/tmp/stmp.txt'\n",
    "   os.execute('ls -1 '..mask..' > '..tmpfile)\n",
    "   local f = io.open(tmpfile)\n",
    "   if not f then return files end  \n",
    "   local k = 1\n",
    "   for line in f:lines() do\n",
    "      files[k] = line\n",
    "      k = k + 1\n",
    "   end\n",
    "   f:close()\n",
    "   return files\n",
    " end\n",
    "\n",
    "-- Retrieve files from list matching a certain pattern string_#_#_[any_seed].png\n",
    "function filterFiles(files, target)\n",
    "    local code = target .. '_%d+.png'\n",
    "    local filtered = {}\n",
    "    local k = 1\n",
    "    for key, name in pairs(files) do\n",
    "        if string.find(name, code) then\n",
    "--             if debug == true then\n",
    "--                 print(name)\n",
    "--             end\n",
    "            filtered[k] = name\n",
    "            k = k+1\n",
    "        end            \n",
    "    end  \n",
    "    return filtered\n",
    "end\n",
    "    \n",
    "function normalizeImage(img)\n",
    "    local imgD = img:double()\n",
    "    local meanImg = imgD:mean()\n",
    "    local imStd = imgD:std()\n",
    "    return imgD:add(-meanImg):div(imStd)\n",
    "end\n",
    "\n",
    "function getImages(files)\n",
    "    local path = 'images/mnist/gen/'\n",
    "    local adversarial = {}\n",
    "    local distortion = {}\n",
    "    local original= {}\n",
    "    local i = 1\n",
    "    local j = 1\n",
    "    local k = 1\n",
    "    for key, name in pairs(files) do\n",
    "        local fname = path .. name\n",
    "--         if debug == true then\n",
    "--             print(fname)\n",
    "--         end\n",
    "        local size = image.getSize(fname)\n",
    "        if string.find(name, 'adversarial') then\n",
    "            adversarial[i] = normalizeImage(image.load(fname, size[1],'byte'))\n",
    "            i = i + 1            \n",
    "        elseif string.find(name, 'distortion') then\n",
    "            distortion[j] = normalizeImage(image.load(fname, size[1],'byte'))\n",
    "            j = j + 1            \n",
    "        elseif string.find(name, 'original') then\n",
    "            original[k] = normalizeImage(image.load(fname, size[1],'byte'))\n",
    "            k = k + 1\n",
    "        else\n",
    "            print(\"Error reading image filename.\")\n",
    "        end\n",
    "    end\n",
    "    return adversarial, distortion, original   \n",
    "end"
   ]
  },
  {
   "cell_type": "markdown",
   "metadata": {},
   "source": [
    "##### Load Images"
   ]
  },
  {
   "cell_type": "code",
   "execution_count": 92,
   "metadata": {
    "collapsed": false
   },
   "outputs": [
    {
     "data": {
      "text/plain": [
       "Testing file\n",
       "Found 4 samples\t\n",
       "True Label: #9\t\n",
       "Adversarial Prediction: #1\t\n"
      ]
     },
     "execution_count": 92,
     "metadata": {},
     "output_type": "execute_result"
    },
    {
     "data": {
      "image/png": "[encoded data removed]",
      "text/plain": [
       "Console does not support images"
      ]
     },
     "metadata": {
      "image/png": {
       "height": 34,
       "width": 136
      }
     },
     "output_type": "display_data"
    },
    {
     "data": {
      "image/png": "[encoded data removed]",
      "text/plain": [
       "Console does not support images"
      ]
     },
     "metadata": {
      "image/png": {
       "height": 34,
       "width": 136
      }
     },
     "output_type": "display_data"
    },
    {
     "data": {
      "image/png": "[encoded data removed]",
      "text/plain": [
       "Console does not support images"
      ]
     },
     "metadata": {
      "image/png": {
       "height": 34,
       "width": 136
      }
     },
     "output_type": "display_data"
    }
   ],
   "source": [
    "--For sample adversarial image\n",
    "-- Choose the origin and target classes for the images\n",
    "\n",
    "-- Note that the most from and to files are different\n",
    "local files = GetFiles('images/mnist/gen')\n",
    "local from = '9'\n",
    "local to = '1'\n",
    "local code = from .. '_' .. to\n",
    "local filtered = filterFiles(files, code)\n",
    "adv, distort, orig = getImages(filtered)\n",
    "\n",
    "\n",
    "--Strip labels from filename\n",
    "i, j = 0, 0\n",
    "i, j = code:find('[0-9]+')\n",
    "true_label = code:sub(i, j)\n",
    "i, j = code:find('[0-9]+', j+1)\n",
    "adv_label = code:sub(i, j)\n",
    "-- i, j = code:find('[0-9]+', j+1)\n",
    "-- seed = code:sub(i, j)\n",
    "\n",
    "io.write(\"Testing file\\n\")\n",
    "local n = #filtered / 3\n",
    "print(\"Found \".. n .. \" samples\" )\n",
    "print(\"True Label: #\" .. true_label)\n",
    "print(\"Adversarial Prediction: #\" .. adv_label)\n",
    "itorch.image(adv)\n",
    "itorch.image(orig)\n",
    "itorch.image(distort)"
   ]
  },
  {
   "cell_type": "markdown",
   "metadata": {},
   "source": [
    "#### Set path and dataset"
   ]
  },
  {
   "cell_type": "code",
   "execution_count": 5,
   "metadata": {
    "collapsed": false
   },
   "outputs": [
    {
     "data": {
      "text/plain": [
       "Using MNIST\t\n"
      ]
     },
     "execution_count": 5,
     "metadata": {},
     "output_type": "execute_result"
    }
   ],
   "source": [
    "package.path = package.path .. ';./mnist/?.lua;./overfeat/?.lua;./lbfgsb/?.lua;./'\n",
    "\n",
    "if mnist then\n",
    "    print(\"Using MNIST\")\n",
    "\trequire 'mnist_model'\n",
    "\tmnist = require 'mnist_utils'\n",
    "else\n",
    "    print(\"Using ImageNet\")\n",
    "\trequire 'overfeat'\n",
    "end"
   ]
  },
  {
   "cell_type": "markdown",
   "metadata": {},
   "source": [
    "## Measurement Functions\n",
    "\n",
    "##### makePrediction \n",
    "    - allows the current model to predict a label for an inputed image\n",
    "##### showResults\n",
    "    - Prints out whether the prediction was correct, adversarial (i.e. spoofed label), or a different one.\n",
    "##### displayImage() \n",
    "    - Scales an image to 500, 500 so that it is visible\n",
    "###### scaled\n",
    "    - wrapper for scaling images\n",
    "###### diffmontage \n",
    "    - Plots the activations of feature maps at input of adversarial, original, and the difference between the two"
   ]
  },
  {
   "cell_type": "code",
   "execution_count": 6,
   "metadata": {
    "collapsed": false
   },
   "outputs": [],
   "source": [
    "makePrediction = function(net, x)\n",
    "    if cuda then\n",
    "        return torch.max(net:forward(x):float(), 1)\n",
    "    else \n",
    "        return torch.max(net:forward(x), 1)\n",
    "    end\n",
    "end\n",
    "\n",
    "showResults = function(xform, param, img1, adv_label, true_label)--prob, idx)\n",
    "    local prob\n",
    "    local idx\n",
    "    prob, idx = makePrediction(net, img1)\n",
    "    local guess = label[idx:squeeze()]\n",
    "    local validity\n",
    "    local result\n",
    "    if tonumber(true_label) == tonumber(guess) then\n",
    "        result = 0\n",
    "    elseif tonumber(guess) == tonumber(adv_label) then\n",
    "        result = 1\n",
    "    else\n",
    "        result = -1\n",
    "    end\n",
    "    io.write(guess,\",\",adv_label,\",\", true_label,\",\", xform,\"\\n\") -- with prob - \",\n",
    "--     print(prob)\n",
    "         -- prob:squeeze() .. \"\\n\")\n",
    "    return result\n",
    "end\n",
    "\n",
    "\n",
    "displayImage = function(x, y)\n",
    "    itorch.image(image.scale(x, y, y, 'simple'))\n",
    "end\n",
    "\n",
    "-- Wrapper for scaling\n",
    "scaled = function(x, y)\n",
    "    return image.scale(x, y, y, 'simple')\n",
    "end\n",
    "\n",
    "montage = function(layer, img)\n",
    "    if cuda then\n",
    "        local imgCuda = img:cuda():reshape(mnist.n)\n",
    "        net:forward(imgCuda)\n",
    "    else\n",
    "        net:forward(img)\n",
    "    end\n",
    "    n = net.modules[layer].output:size()[1]\n",
    "    stack = {}\n",
    "    for i = 1, n do\n",
    "        map = image.scale(net.modules[layer].output[i]:double(), 100, 100, 'simple')\n",
    "        table.insert(stack, map)\n",
    "    end\n",
    "    -- stack.insert{nrow=32}\n",
    "    itorch.image(stack)\n",
    "end\n",
    "\n",
    "\n",
    "diffmontage = function(layer, img1, img2, display)\n",
    "    local img1Cuda\n",
    "    local img2Cuda\n",
    "    if cuda then\n",
    "        img1Cuda = img1:cuda():reshape(mnist.n)\n",
    "        img2Cuda = img2:cuda():reshape(mnist.n)\n",
    "        net:forward(img1Cuda)\n",
    "    else\n",
    "        net:forward(img1)\n",
    "    end\n",
    "    \n",
    "    \n",
    "    local n = net.modules[layer].output:size()[1]\n",
    "    local stack1 = {}\n",
    "    local stack2 = {}\n",
    "    local stackdiff= {}\n",
    "    for i = 1, n do\n",
    "        table.insert(stackdiff, net.modules[layer].output[i]:double())\n",
    "        map = image.scale(net.modules[layer].output[i]:double(), 100, 100, 'simple')\n",
    "        table.insert(stack1, map)\n",
    "    end    \n",
    "    if cuda then\n",
    "        net:forward(img2Cuda)\n",
    "    else\n",
    "        net:forward(img2)\n",
    "    end\n",
    "    \n",
    "    for i = 1, n do\n",
    "        stackdiff[i] = image.scale(stackdiff[i] - net.modules[layer].output[i]:double(), 100, 100, 'simple')\n",
    "        map = image.scale(net.modules[layer].output[i]:double(), 100, 100, 'simple')\n",
    "        table.insert(stack2, map)\n",
    "    end\n",
    "    -- stack.insert{nrow=32}\n",
    "    if display == true then\n",
    "        io.write(\"Adversarial Maps.\\n\")\n",
    "        itorch.image(stack1)\n",
    "        io.write(\"Original Maps.\\n\")\n",
    "        itorch.image(stack2)\n",
    "        io.write(\"Difference Img1 - Img2.\\n\")\n",
    "        itorch.image(stackdiff)\n",
    "    --     print(stackdiff[1])\n",
    "    end\n",
    "    return stackdiff\n",
    "end\n",
    "\n",
    "function pca(x, n_comp, whitened)\n",
    "    -- Center data\n",
    "    local mean = torch.mean(x, 1)\n",
    "    local x_m = x - torch.ger(torch.ones(x:size(1)), mean:squeeze())\n",
    "\n",
    "    -- Calculate Covariance\n",
    "    local cov = x_m * x_m:t()\n",
    "    --  cov:div(x:size(1) - 1)\n",
    "\n",
    "    -- Get eigenvalues and eigenvectors\n",
    "    local ce, cv = torch.symeig(cov, 'V')\n",
    "    -- Sort eigenvalues\n",
    "    local ce, idx = torch.sort(ce, true)\n",
    "    \n",
    "    -- Sort eigenvectors\n",
    "    cv = cv:index(2, idx:long())\n",
    "\n",
    "    -- Keep only the top\n",
    "--     if n_comp and n_comp < cv:size(2) then\n",
    "--         ce = ce:sub(1, n_comp)\n",
    "--         cv = cv:sub(1, -1, 1, n_comp)\n",
    "--     end\n",
    "\n",
    "    -- Check if whitened version\n",
    "    -- vectors are divided by the singular values to ensure uncorrelated outputs with unit component-wise variances.\n",
    "    if not whitened then\n",
    "        ce:add(1e-5):sqrt()\n",
    "    end\n",
    "\n",
    "    -- Get inverse\n",
    "    local inv_ce = ce:clone():pow(-1)\n",
    "\n",
    "    -- Make it a matrix with diagonal inv_ce\n",
    "    local inv_diag = torch.diag(inv_ce)\n",
    "    \n",
    "    -- Transform to get U\n",
    "    local u = x_m:t() * cv * inv_diag\n",
    "\n",
    "    return u\n",
    "end"
   ]
  },
  {
   "cell_type": "markdown",
   "metadata": {},
   "source": [
    "#### Testing that adversarial imges fool the network"
   ]
  },
  {
   "cell_type": "code",
   "execution_count": 7,
   "metadata": {
    "collapsed": true
   },
   "outputs": [],
   "source": [
    "function check(img1, fname,  adv_label, true_label)\n",
    "    local toTest = img1\n",
    "    if cuda then toTest = toTest:cuda():reshape(mnist.n) end\n",
    "    --Get label\n",
    "    local result = showResults(\"None: \", 0, toTest, adv_label, true_label)\n",
    "    if result == 0 then\n",
    "        io.write(\"Error: image\", fname ,\"classified correctly.\\n\")\n",
    "--     else \n",
    "--         print(\"Image spoofs model. Conducting tests\")\n",
    "    end\n",
    "end"
   ]
  },
  {
   "cell_type": "markdown",
   "metadata": {},
   "source": [
    "##### Check for the initial predictions of each of the adversarial images (may not be what is expected)"
   ]
  },
  {
   "cell_type": "code",
   "execution_count": 348,
   "metadata": {
    "collapsed": false,
    "scrolled": false
   },
   "outputs": [
    {
     "data": {
      "text/plain": [
       "1,1,9,None: \n"
      ]
     },
     "execution_count": 348,
     "metadata": {},
     "output_type": "execute_result"
    },
    {
     "data": {
      "text/plain": [
       "1,1,9,None: \n",
       "1,1,9,None: \n",
       "1,1,9,None: \n"
      ]
     },
     "execution_count": 348,
     "metadata": {},
     "output_type": "execute_result"
    }
   ],
   "source": [
    "for key, im in pairs(adv) do\n",
    "    check(im, key, adv_label, true_label)\n",
    "end"
   ]
  },
  {
   "cell_type": "code",
   "execution_count": 102,
   "metadata": {
    "collapsed": false
   },
   "outputs": [],
   "source": [
    "--Wrapper to conveniently compare lists\n",
    "function displayLists(adv, orig)\n",
    "    diffs = {}\n",
    "    for i=1,#adv, 1 do\n",
    "        check(adv[i], i, adv_label, true_label)\n",
    "        print(\"Montage \" .. i)\n",
    "        displayImage(adv[i], 500)\n",
    "--         montage(3, adv[i])\n",
    "        diffs[i] = diffmontage(3, adv[i], orig[i], true)\n",
    "    end\n",
    "    thing = diffs[1]\n",
    "--     print(thing)\n",
    "    for i = 1, #diffs, 1 do    \n",
    "        for j = 1, #diffs[i] do\n",
    "            thing[j] = thing[j] + diffs[i][j]\n",
    "        end\n",
    "    end\n",
    "    itorch.image(thing)\n",
    "end"
   ]
  },
  {
   "cell_type": "markdown",
   "metadata": {},
   "source": [
    "### Map Feature Map back onto original image space\n",
    "\n",
    "- select a specific neuron whose activations you wish to map back to the original image space\n",
    "\n",
    "#### mapBack\n",
    "- Returns the image on the input space of a specific input\n",
    "\n",
    "#### projectDiffs\n",
    "- Wrapper function to compare the projections of two different inputs (i.e. the adversarial and original images\n",
    "\n",
    "#### montageProjections\n",
    "- Wrapper function to go through each input in parallel tables and call projectDiffs. Returns a table of difference images\n",
    "\n",
    "#### mapLayer\n",
    "- Wrapper that iterates through all neurons in a layer and sums the projections on the input space"
   ]
  },
  {
   "cell_type": "code",
   "execution_count": 10,
   "metadata": {
    "collapsed": false,
    "scrolled": true
   },
   "outputs": [],
   "source": [
    "function mapBack(net, layer, neuron, img)\n",
    "    local testNet = net:clone()\n",
    "    local levWeights = testNet.modules[layer].weight:clone()\n",
    "    \n",
    "    --Send forward\n",
    "    testNet:zeroGradParameters()\n",
    "    local output = testNet:forward(img:cuda())\n",
    "    for i=1, (#levWeights:squeeze())[1], 1 do\n",
    "        if i ~= neuron then\n",
    "            testNet.modules[layer].weight[i] = 0.0\n",
    "        else\n",
    "            testNet.modules[layer].weight[i] = 1.0\n",
    "        end\n",
    "    end\n",
    "    --send backward\n",
    "    local gradInput = testNet:backward(img:cuda(), output)\n",
    "    return(gradInput:double())\n",
    "end\n",
    "\n",
    "\n",
    "function projectDiffs(net, layer, neuron, img1, img2)\n",
    "    local proj1 = mapBack(net, layer, neuron, img1)\n",
    "    local proj2 = mapBack(net, layer, neuron, img2)\n",
    "    return proj2 - proj1\n",
    "end\n",
    "\n",
    "function montage_projections(net, layer, neuron, adv, orig)\n",
    "    local differences = {}\n",
    "    for i=1, #adv, 1 do\n",
    "        differences[i] = projectDiffs(net, layer, neuron, adv[i], orig[i])\n",
    "--         displayImage(differences[i], 200)        \n",
    "    end\n",
    "    return differences\n",
    "end"
   ]
  },
  {
   "cell_type": "markdown",
   "metadata": {},
   "source": [
    "### Average the difference in activations over a specific layer\n",
    "\n",
    "#### mapLayer\n",
    "- displays the total difference in projections over all neurons in a layer over all images in the adversarial and original image sets\n",
    "\n",
    "#### montageSingleProjections\n",
    "- returns the projections onto the input space of a given image over all neurons in a layer\n",
    "\n",
    "#### mapOverImages\n",
    "- returns average over all neurons in a layer over all images in parallel tables"
   ]
  },
  {
   "cell_type": "code",
   "execution_count": 11,
   "metadata": {
    "collapsed": false,
    "scrolled": false
   },
   "outputs": [],
   "source": [
    "function mapLayer(net, layer, adv, orig, displayAll)\n",
    "    local size = #adv\n",
    "    local largeSum = torch.DoubleTensor(#net.modules[2].output):zero() -- hardcode reshaped data in\n",
    "    for i=1, (#net.modules[layer].weight)[1] do\n",
    "        local differences = montage_projections(net, layer, i, adv, orig)\n",
    "        local sum = torch.DoubleTensor(#differences[1]):zero()\n",
    "        for j = 1,#differences do\n",
    "            sum = sum + differences[j]\n",
    "        end    \n",
    "        largeSum = largeSum + sum\n",
    "        if displayAll then\n",
    "            displayImage(sum, 100)\n",
    "        end\n",
    "    end\n",
    "    displayImage(largeSum, 500)\n",
    "end\n",
    "\n",
    "function montageSingleProjections(net, layer, img, displayAll)\n",
    "    local projs = {}\n",
    "    for i=1, (#net.modules[layer].weight)[1], 1 do\n",
    "        local proj = mapBack(net, layer, i, img)\n",
    "        local proj = proj - torch.min(proj) -- make positive, starting at 0\n",
    "        local max = torch.max(proj) \n",
    "        if max > 0.001 then\n",
    "            proj = proj/ max -- Unit size\n",
    "        end\n",
    "        if displayAll == true then\n",
    "--             print(displayAll)\n",
    "            displayImage(proj, 100)\n",
    "        end\n",
    "        projs[i] = proj\n",
    "    end\n",
    "    return projs\n",
    "end\n",
    "-- display the resuls fro\n",
    "function mapOverImages(net, layer, imgs, displayAll, displaySums)\n",
    "--     local projs = {}\n",
    "    local largeSum = torch.DoubleTensor(#net.modules[2].output):zero()\n",
    "    for i=1, #imgs do\n",
    "        local projs =  montageSingleProjections(net, layer, imgs[i], displayAll)   \n",
    "        local sum = torch.DoubleTensor(#projs[1]):zero()\n",
    "        for j=1, #projs do\n",
    "            sum = sum + projs[j]\n",
    "        end\n",
    "        sum = sum / #projs\n",
    "        largeSum = largeSum + sum\n",
    "        if displaySums == true then\n",
    "--             print(displayAll)\n",
    "--             print(sum)\n",
    "            displayImage(sum, 200)\n",
    "        end \n",
    "    end\n",
    "    largeSum = largeSum --/ torch.max(largeSum)\n",
    "    displayImage(largeSum, 500)\n",
    "    return largeSum\n",
    "end"
   ]
  },
  {
   "cell_type": "markdown",
   "metadata": {},
   "source": [
    "### Display the inputed images (adversarial and original)"
   ]
  },
  {
   "cell_type": "code",
   "execution_count": 12,
   "metadata": {
    "collapsed": false
   },
   "outputs": [],
   "source": [
    "-- for i=1, #adv do\n",
    "--    displayImage(adv[i], 100) \n",
    "--    displayImage(orig[i], 100)\n",
    "--    displayImage(distort[i], 100)\n",
    "-- end"
   ]
  },
  {
   "cell_type": "code",
   "execution_count": 370,
   "metadata": {
    "collapsed": false,
    "scrolled": true
   },
   "outputs": [
    {
     "data": {
      "image/png": "[encoded data removed]",
      "text/plain": [
       "Console does not support images"
      ]
     },
     "metadata": {
      "image/png": {
       "height": 500,
       "width": 500
      }
     },
     "output_type": "display_data"
    },
    {
     "data": {
      "image/png": "[encoded data removed]",
      "text/plain": [
       "Console does not support images"
      ]
     },
     "metadata": {
      "image/png": {
       "height": 500,
       "width": 500
      }
     },
     "output_type": "display_data"
    },
    {
     "data": {
      "image/png": "[encoded data removed]",
      "text/plain": [
       "Console does not support images"
      ]
     },
     "metadata": {
      "image/png": {
       "height": 500,
       "width": 500
      }
     },
     "output_type": "display_data"
    },
    {
     "data": {
      "image/png": "[encoded data removed]",
      "text/plain": [
       "Console does not support images"
      ]
     },
     "metadata": {
      "image/png": {
       "height": 500,
       "width": 500
      }
     },
     "output_type": "display_data"
    }
   ],
   "source": [
    "local net = testNet\n",
    "local sum = mapOverImages(net, 6, orig, false, false)\n",
    "local sum2 = mapOverImages(net, 6, adv, false, false)\n",
    "local sum3 = mapOverImages(net, 10, distort, false, false)\n",
    "-- print(torch.max(sum))\n",
    "-- print(torch.min(sum))\n",
    "-- print(torch.max(sum2))\n",
    "-- print(torch.min(sum2))\n",
    "sum = sum / torch.max(torch.abs(sum))\n",
    "sum = sum + torch.min(sum)\n",
    "sum2 = sum2 / torch.max(torch.abs(sum2))\n",
    "sum2 = sum2 + torch.min(sum2)\n",
    "displayImage(sum2 - sum, 500)\n",
    "-- print(sum)"
   ]
  },
  {
   "cell_type": "code",
   "execution_count": 368,
   "metadata": {
    "collapsed": false,
    "scrolled": true
   },
   "outputs": [
    {
     "data": {
      "image/png": "[encoded data removed]",
      "text/plain": [
       "Console does not support images"
      ]
     },
     "metadata": {
      "image/png": {
       "height": 500,
       "width": 500
      }
     },
     "output_type": "display_data"
    },
    {
     "data": {
      "image/png": "[encoded data removed]",
      "text/plain": [
       "Console does not support images"
      ]
     },
     "metadata": {
      "image/png": {
       "height": 500,
       "width": 500
      }
     },
     "output_type": "display_data"
    },
    {
     "data": {
      "image/png": "[encoded data removed]",
      "text/plain": [
       "Console does not support images"
      ]
     },
     "metadata": {
      "image/png": {
       "height": 500,
       "width": 500
      }
     },
     "output_type": "display_data"
    },
    {
     "data": {
      "image/png": "[encoded data removed]",
      "text/plain": [
       "Console does not support images"
      ]
     },
     "metadata": {
      "image/png": {
       "height": 500,
       "width": 500
      }
     },
     "output_type": "display_data"
    }
   ],
   "source": []
  },
  {
   "cell_type": "code",
   "execution_count": 364,
   "metadata": {
    "collapsed": false,
    "scrolled": true
   },
   "outputs": [
    {
     "data": {
      "image/png": "[encoded data removed]",
      "text/plain": [
       "Console does not support images"
      ]
     },
     "metadata": {
      "image/png": {
       "height": 500,
       "width": 500
      }
     },
     "output_type": "display_data"
    },
    {
     "data": {
      "image/png": "[encoded data removed]",
      "text/plain": [
       "Console does not support images"
      ]
     },
     "metadata": {
      "image/png": {
       "height": 500,
       "width": 500
      }
     },
     "output_type": "display_data"
    },
    {
     "data": {
      "image/png": "[encoded data removed]",
      "text/plain": [
       "Console does not support images"
      ]
     },
     "metadata": {
      "image/png": {
       "height": 500,
       "width": 500
      }
     },
     "output_type": "display_data"
    },
    {
     "data": {
      "image/png": "[encoded data removed]",
      "text/plain": [
       "Console does not support images"
      ]
     },
     "metadata": {
      "image/png": {
       "height": 500,
       "width": 500
      }
     },
     "output_type": "display_data"
    }
   ],
   "source": []
  },
  {
   "cell_type": "code",
   "execution_count": 14,
   "metadata": {
    "collapsed": false,
    "scrolled": false
   },
   "outputs": [
    {
     "data": {
      "image/png": "[encoded data removed]",
      "text/plain": [
       "Console does not support images"
      ]
     },
     "metadata": {
      "image/png": {
       "height": 500,
       "width": 500
      }
     },
     "output_type": "display_data"
    },
    {
     "data": {
      "text/plain": [
       "\n"
      ]
     },
     "execution_count": 14,
     "metadata": {},
     "output_type": "execute_result"
    }
   ],
   "source": [
    "mapLayer(net, 6, adv, orig, True)"
   ]
  },
  {
   "cell_type": "markdown",
   "metadata": {},
   "source": [
    "### Module ___ Return the norm of the activations over a given layer for a given input\n",
    "\n",
    "** Note that this won't really work for negative activations..."
   ]
  },
  {
   "cell_type": "code",
   "execution_count": 353,
   "metadata": {
    "collapsed": false
   },
   "outputs": [],
   "source": [
    "-- Returns a sorted table of neurons and activity differences.\n",
    "compareActivities = function(net, layer, img1, img2, display)\n",
    "    local img1Cuda\n",
    "    local img2Cuda\n",
    "    if cuda then\n",
    "        img1Cuda = img1:cuda():reshape(mnist.n)\n",
    "        img2Cuda = img2:cuda():reshape(mnist.n)\n",
    "        net:forward(img1Cuda)\n",
    "    else\n",
    "        net:forward(img1)\n",
    "    end\n",
    "    \n",
    "    local n = net.modules[layer].output:size()[1]\n",
    "    local stack1 = {}\n",
    "    local stack2 = {}\n",
    "    local stackdiff= {}\n",
    "--     print(net.modules[layer])\n",
    "    local output = torch.Tensor(#net.modules[layer].bias):zero()\n",
    "    local map\n",
    "--     print(\"N = \" .. n)\n",
    "    for i = 1, n do\n",
    "        local tmp = net.modules[layer].output[i]\n",
    "        if type(tmp) == 'userdata' then\n",
    "            output = tmp:double()\n",
    "            map = image.scale(output, 100, 100, 'simple')\n",
    "        else\n",
    "            output = tmp\n",
    "            map = output\n",
    "        end\n",
    "        table.insert(stackdiff, output)\n",
    "        table.insert(stack1, map)\n",
    "    end    \n",
    "    if cuda then\n",
    "        net:forward(img2Cuda)\n",
    "    else\n",
    "        net:forward(img2)\n",
    "    end\n",
    "    \n",
    "    for i = 1, n do\n",
    "        local tmp = net.modules[layer].output[i]\n",
    "        if type(tmp) == 'userdata' then\n",
    "            output = tmp:double()\n",
    "            stackdiff[i] = image.scale(stackdiff[i] - output, 100, 100, 'simple')\n",
    "            map = image.scale(output, 100, 100, 'simple')\n",
    "        else\n",
    "            output = tmp\n",
    "            map = output\n",
    "            stackdiff[i] = stackdiff[i] - output\n",
    "        end\n",
    "--         map = image.scale(output, 100, 100, 'simple')\n",
    "        table.insert(stack2, map)\n",
    "    end\n",
    "    -- stack.insert{nrow=32}\n",
    "    if display == true then\n",
    "        io.write(\"Adversarial Maps.\\n\")\n",
    "        itorch.image(stack1)\n",
    "        io.write(\"Original Maps.\\n\")\n",
    "        itorch.image(stack2)\n",
    "        io.write(\"Difference Img1 - Img2.\\n\")\n",
    "        itorch.image(stackdiff)\n",
    "    --     print(stackdiff[1])\n",
    "    end\n",
    "    \n",
    "    for i=1,n do\n",
    "        if type(stackdiff[i]) == 'number' then\n",
    "            stackdiff[i] = math.abs(stackdiff[i])\n",
    "        else\n",
    "            stackdiff[i] = torch.norm(stackdiff[i])\n",
    "        end\n",
    "        if display == true then\n",
    "            print(stackdiff[i])\n",
    "        end\n",
    "    end\n",
    "    \n",
    "    local a = {}\n",
    "    \n",
    "    for i, n in pairs(stackdiff) do\n",
    "        table.insert(a, torch.Tensor({i, n}))\n",
    "    end\n",
    "\n",
    "    table.sort(a,function(a,b) return a[2]<b[2] end)\n",
    "    return a\n",
    "end\n",
    "\n",
    "function chooseK(table, k, inverse, values)\n",
    "    local a = {}\n",
    "    local ind = 1\n",
    "    if values == true then\n",
    "        ind = 2\n",
    "    end\n",
    "    if inverse == true then\n",
    "        for i = k+1, #table do\n",
    "            a[i - k] = table[i][ind]\n",
    "        end\n",
    "    else\n",
    "        for i = 1, k do\n",
    "            a[i] = table[i][ind]\n",
    "        end\n",
    "        \n",
    "    end\n",
    "    return a    \n",
    "end\n",
    "\n",
    "\n",
    "-- Train \n",
    "function trainHardNegatives(net, criterion,  layer, neuronsOff, img, true_label, labels)\n",
    "    local testNet = net:clone() -- TODO eliminate in the final\n",
    "    local levWeights = testNet.modules[layer].weight:clone()\n",
    "    \n",
    "    -- Zero out low error neurons\n",
    "    for i=1, #neuronsOff do\n",
    "        local ind = neuronsOff[i]\n",
    "        testNet.modules[layer].weight[ind] = 0.0\n",
    "    end\n",
    "--     print(testNet.modules[layer].weight)\n",
    "    \n",
    "    --Send forward\n",
    "    testNet:zeroGradParameters()\n",
    "    local x = img:cuda():reshape(mnist.n)\n",
    "    local output = testNet:forward(x)\n",
    "    -- Get Predictions\n",
    "    local prob, idx = torch.max(output, 1)\n",
    "    local prediction = labels[idx:squeeze()]\n",
    "--     local gradInput = testNet:backward(img:cuda(), output)\n",
    "    print(\"Old: \" .. prediction)\n",
    "    print(prob)\n",
    "    criterion:forward(output, true_label)\n",
    "    testNet:zeroGradParameters()\n",
    "    local gradInput = testNet:backward(x, criterion:backward(output, true_label))\n",
    "    testNet:updateParameters(0.01)\n",
    "    \n",
    "    -- Reinsert weights for those NOT activated.\n",
    "    for i=1, #neuronsOff do\n",
    "        local ind = neuronsOff[i]\n",
    "        testNet.modules[layer].weight[ind] = levWeights[ind]\n",
    "    end\n",
    "    testNet:zeroGradParameters()\n",
    "    local output = testNet:forward(x)\n",
    "    testNet:zeroGradParameters()\n",
    "    -- Get Predictions\n",
    "    local prob, idx = torch.max(output, 1)\n",
    "    local prediction = labels[idx:squeeze()]\n",
    "    print(\"New: \" .. prediction)\n",
    "    print(prob)\n",
    "    \n",
    "    return testNet\n",
    "end"
   ]
  },
  {
   "cell_type": "markdown",
   "metadata": {},
   "source": [
    "Test Functions"
   ]
  },
  {
   "cell_type": "code",
   "execution_count": 55,
   "metadata": {
    "collapsed": false
   },
   "outputs": [],
   "source": [
    "function getLabelID(num)\n",
    "    if num == 0 then\n",
    "        return 10\n",
    "    else\n",
    "        return num +1\n",
    "    end\n",
    "end"
   ]
  },
  {
   "cell_type": "code",
   "execution_count": 89,
   "metadata": {
    "collapsed": false
   },
   "outputs": [
    {
     "data": {
      "text/plain": [
       "0\t\n"
      ]
     },
     "execution_count": 89,
     "metadata": {},
     "output_type": "execute_result"
    }
   ],
   "source": [
    "local meanImg = adv[1]:double():mean()\n",
    "local updated = adv[1]:double():add(-meanImg)\n",
    "print(updated:mean())"
   ]
  },
  {
   "cell_type": "code",
   "execution_count": 238,
   "metadata": {
    "collapsed": false
   },
   "outputs": [],
   "source": [
    "require 'gnuplot';"
   ]
  },
  {
   "cell_type": "code",
   "execution_count": 369,
   "metadata": {
    "collapsed": false
   },
   "outputs": [
    {
     "data": {
      "text/plain": [
       "Old: 8\t\n",
       "-0.6885\n",
       "[torch.CudaTensor of size 1]\n",
       "\n"
      ]
     },
     "execution_count": 369,
     "metadata": {},
     "output_type": "execute_result"
    },
    {
     "data": {
      "text/plain": [
       "New: 9\t\n",
       "0.0001 *\n",
       "-3.4332\n",
       "[torch.CudaTensor of size 1]\n",
       "\n"
      ]
     },
     "execution_count": 369,
     "metadata": {},
     "output_type": "execute_result"
    },
    {
     "data": {
      "text/plain": [
       "Old: 7\t\n",
       "-1.3275\n",
       "[torch.CudaTensor of size 1]\n",
       "\n"
      ]
     },
     "execution_count": 369,
     "metadata": {},
     "output_type": "execute_result"
    },
    {
     "data": {
      "text/plain": [
       "New: 9\t\n",
       " 0\n",
       "[torch.CudaTensor of size 1]\n",
       "\n"
      ]
     },
     "execution_count": 369,
     "metadata": {},
     "output_type": "execute_result"
    },
    {
     "data": {
      "text/plain": [
       "Old: 9\t\n",
       "0.001 *\n",
       "-1.0195\n",
       "[torch.CudaTensor of size 1]\n",
       "\n"
      ]
     },
     "execution_count": 369,
     "metadata": {},
     "output_type": "execute_result"
    },
    {
     "data": {
      "text/plain": [
       "New: 9\t\n",
       "0.0001 *\n",
       "-6.8283\n",
       "[torch.CudaTensor of size 1]\n",
       "\n"
      ]
     },
     "execution_count": 369,
     "metadata": {},
     "output_type": "execute_result"
    },
    {
     "data": {
      "text/plain": [
       "Old: 9\t\n",
       "0.0001 *\n",
       "-4.7016\n",
       "[torch.CudaTensor of size 1]\n",
       "\n"
      ]
     },
     "execution_count": 369,
     "metadata": {},
     "output_type": "execute_result"
    },
    {
     "data": {
      "text/plain": [
       "New: 9\t\n",
       "0.001 *\n",
       "-7.2708\n",
       "[torch.CudaTensor of size 1]\n",
       "\n"
      ]
     },
     "execution_count": 369,
     "metadata": {},
     "output_type": "execute_result"
    }
   ],
   "source": [
    "testNet = net:clone()\n",
    "local layer = 6\n",
    "-- local val = torch.Tensor(10):fill(0)\n",
    "-- local index = torch.Tensor(10):fill(0)\n",
    "for imgInd = 1, #orig do\n",
    "    -- for portion= 10, 1, -1 do\n",
    "    local portion = 5\n",
    "    local k = torch.ceil((#net.modules[layer].weight)[1]/portion)\n",
    "    local activitiesList = compareActivities(net, layer, adv[imgInd], orig[imgInd], false)\n",
    "    local x = torch.Tensor(#activitiesList):fill(0)\n",
    "    local y = torch.Tensor(#activitiesList):fill(0)\n",
    "    -- for i = 1, #activitiesList do\n",
    "    --     x[i] = i\n",
    "    --     y[i] = activitiesList[i][2]\n",
    "    -- end\n",
    "    -- gnuplot.figure(2)\n",
    "    -- gnuplot.plot(x, y)\n",
    "    -- inputs: list to filter, number to keep, inverse (it true return top n-k else return bottom k), output values\n",
    "    local filteredList = chooseK(activitiesList, k, true, false)\n",
    "\n",
    "    local criterion = nn.ClassNLLCriterion()\n",
    "\n",
    "    testNet = trainHardNegatives(testNet,criterion:cuda(), layer, filteredList, adv[imgInd],getLabelID(true_label), label)\n",
    "end\n",
    "-- end\n",
    "-- gnuplot.figure(3)\n",
    "-- gnuplot.plot(index, val)"
   ]
  },
  {
   "cell_type": "code",
   "execution_count": 136,
   "metadata": {
    "collapsed": false
   },
   "outputs": [
    {
     "data": {
      "text/plain": [
       "1e-05 *\n",
       "-3.9101\n",
       "[torch.FloatTensor of size 1]\n",
       "\n",
       " 10\n",
       "[torch.LongTensor of size 1]\n",
       "\n",
       "10\t\n",
       "9\t\n"
      ]
     },
     "execution_count": 136,
     "metadata": {},
     "output_type": "execute_result"
    }
   ],
   "source": [
    "-- print(label)\n",
    "local prob, idx = makePrediction(net, orig[1]:cuda():reshape(mnist.n))\n",
    "print(prob)\n",
    "print(idx)\n",
    "print(idx:squeeze())\n",
    "local guess = label[idx:squeeze()]\n",
    "print(guess)"
   ]
  },
  {
   "cell_type": "code",
   "execution_count": 361,
   "metadata": {
    "collapsed": false
   },
   "outputs": [
    {
     "data": {
      "image/png": "[encoded data removed]",
      "text/plain": [
       "Console does not support images"
      ]
     },
     "metadata": {
      "image/png": {
       "height": 34,
       "width": 68
      }
     },
     "output_type": "display_data"
    },
    {
     "data": {
      "image/png": "[encoded data removed]",
      "text/plain": [
       "Console does not support images"
      ]
     },
     "metadata": {
      "image/png": {
       "height": 34,
       "width": 68
      }
     },
     "output_type": "display_data"
    }
   ],
   "source": [
    "-- Note that the most from and to files are different\n",
    "local files = GetFiles('images/mnist/gen')\n",
    "local from = '5'\n",
    "local to = '3'\n",
    "local code = from .. '_' .. to\n",
    "local filtered = filterFiles(files, code)\n",
    "adv2, distort2, orig2 = getImages(filtered)\n",
    "itorch.image(adv2)\n",
    "itorch.image(orig2)"
   ]
  },
  {
   "cell_type": "code",
   "execution_count": null,
   "metadata": {
    "collapsed": false,
    "scrolled": false
   },
   "outputs": [],
   "source": [
    "-- print((#net.modules[6].gradInput:squeeze())[1])\n",
    "-- for i=1, (#net.modules[6].gradInput:squeeze())[1] do\n",
    "--     itorch.image(net.modules[6].gradInput:squeeze()[i])\n",
    "-- end\n",
    "\n",
    "-- local i = 1\n",
    "-- local output = net:forward(adv[i]:cuda())\n",
    "-- net:zeroGradParameters()\n",
    "-- local gradInput = net:backward(adv[i]:cuda(), output)\n",
    "-- displayImage(adv[i])\n",
    "-- displayImage(gradInput:double())\n",
    "-- output = net:forward(adv[i]:cuda())\n",
    "-- gradInput = net:backward(adv[i]:cuda(), output)\n",
    "-- displayImage(gradInput:double())\n",
    "-- -- displayImage(adv[2])"
   ]
  },
  {
   "cell_type": "code",
   "execution_count": null,
   "metadata": {
    "collapsed": true
   },
   "outputs": [],
   "source": [
    "mapBack(net, 6, 10, orig[1], adv[1])"
   ]
  },
  {
   "cell_type": "code",
   "execution_count": null,
   "metadata": {
    "collapsed": true
   },
   "outputs": [],
   "source": [
    "net.modules[6].weight"
   ]
  },
  {
   "cell_type": "code",
   "execution_count": null,
   "metadata": {
    "collapsed": true
   },
   "outputs": [],
   "source": [
    "testNet.modules[6].weight[{{2,64}}] = 0.0"
   ]
  },
  {
   "cell_type": "code",
   "execution_count": null,
   "metadata": {
    "collapsed": false
   },
   "outputs": [],
   "source": [
    "torch.mean(img:double(), 1)"
   ]
  },
  {
   "cell_type": "code",
   "execution_count": null,
   "metadata": {
    "collapsed": false
   },
   "outputs": [],
   "source": [
    "torch.ger(torch.ones(img:size()), torch.mean(img:float(), 1):squeeze())"
   ]
  },
  {
   "cell_type": "code",
   "execution_count": null,
   "metadata": {
    "collapsed": true
   },
   "outputs": [],
   "source": [
    "project = testNet:backward(toTest, outTest):reshape(32, 32)"
   ]
  },
  {
   "cell_type": "code",
   "execution_count": null,
   "metadata": {
    "collapsed": false
   },
   "outputs": [],
   "source": [
    "function pca(x)\n",
    "   x = x:squeeze()\n",
    "   local mean = torch.mean(x,1)\n",
    "   local xm = x - mean:expandAs(x)\n",
    "   xm:div(math.sqrt(x:size(1)-1))\n",
    "   local w,s,v = torch.svd(xm:t())\n",
    "   s:cmul(s)\n",
    "   return s,w\n",
    "end"
   ]
  },
  {
   "cell_type": "code",
   "execution_count": null,
   "metadata": {
    "collapsed": false
   },
   "outputs": [],
   "source": [
    "s, w = pca(img_original:double())"
   ]
  },
  {
   "cell_type": "code",
   "execution_count": null,
   "metadata": {
    "collapsed": false,
    "scrolled": true
   },
   "outputs": [],
   "source": [
    "w = w[{{1, 32},{5,32}}]"
   ]
  },
  {
   "cell_type": "code",
   "execution_count": null,
   "metadata": {
    "collapsed": false
   },
   "outputs": [],
   "source": [
    "print(#w)"
   ]
  },
  {
   "cell_type": "code",
   "execution_count": null,
   "metadata": {
    "collapsed": false
   },
   "outputs": [],
   "source": [
    "itorch.image(image.scale(img:squeeze():float() * w:float() * w:float():t(), 150, 150, 'simple'))\n",
    "itorch.image(image.scale(img_original:squeeze():float() * w:float() * w:float():t(), 150, 150, 'simple'))"
   ]
  },
  {
   "cell_type": "code",
   "execution_count": null,
   "metadata": {
    "collapsed": false
   },
   "outputs": [],
   "source": [
    "itorch.image(image.scale(img_original:squeeze(), 150, 150, 'simple'))"
   ]
  },
  {
   "cell_type": "code",
   "execution_count": null,
   "metadata": {
    "collapsed": false
   },
   "outputs": [],
   "source": [
    "itorch.image(image.scale(img_original:squeeze():double():cmul(w):cmul(w:t()), 150, 150, 'simple'))"
   ]
  },
  {
   "cell_type": "code",
   "execution_count": null,
   "metadata": {
    "collapsed": false
   },
   "outputs": [],
   "source": [
    "itorch.image(image.scale(project:float(), 150, 150, 'simple'))"
   ]
  },
  {
   "cell_type": "markdown",
   "metadata": {},
   "source": [
    "### Need to add a function to VISUALIZE a given convolutional layer"
   ]
  },
  {
   "cell_type": "markdown",
   "metadata": {},
   "source": [
    "I.e. given a particular input, display the activations of layers vis a vis the original."
   ]
  },
  {
   "cell_type": "markdown",
   "metadata": {
    "collapsed": false
   },
   "source": [
    "-- -- Rotate to +/- 45 degrees using simple interpolation\n",
    "-- print('Rotating image')\n",
    "-- for i = -45, 45, 5 do\n",
    "-- \tlocal imgRot = image.rotate(img, i * math.pi/180, mode)\n",
    "-- \tlocal toTest = imgRot\n",
    "-- \tif cuda then toTest = toTest:cuda():reshape(mnist.n) end\n",
    "-- \t--Get label\n",
    "-- \tlocal prob, idx = makePrediction(toTest)\n",
    "-- \tlocal result = showResults(\"Rotate\", i, prob, idx)\n",
    "-- \tif result == -1 then\n",
    "--         displayImage(imgRot)\n",
    "--         montage(3)\n",
    "-- \t\timage.save(outPath .. save_name .. '_rotated_' .. 'strange_' .. i .. '.png', imgRot)\n",
    "-- \telseif result == 0 then\n",
    "-- \t\timage.save(outPath .. save_name .. '_rotated_' .. 'correct_' .. i .. '.png', imgRot)\n",
    "-- \tend\n",
    "-- end"
   ]
  },
  {
   "cell_type": "markdown",
   "metadata": {
    "collapsed": false
   },
   "source": [
    "-- --Random noise\n",
    "-- print('Adding Random Gaussian noise')\n",
    "-- for i = 0, 255, 5 do\n",
    "-- \tlocal r = (torch.rand(size[2], size[3]) * i - (i/2)):floor()\n",
    "-- \t-- print(r)\n",
    "-- \tlocal imgNoise = img:float():add(r)\n",
    "-- \t-- print(imgNoise)\n",
    "-- \tlocal min = imgNoise:min()\n",
    "-- \tlocal max = imgNoise:max()\n",
    "-- \t--Renormalize values in [0, 255)\n",
    "-- \timgNoise = imgNoise:add(-min):div((max-min)/255.0):floor():byte()\n",
    "-- \tlocal toTest = imgNoise\n",
    "-- \tif cuda then toTest = toTest:cuda():reshape(mnist.n) end\n",
    "-- \t--Get label\n",
    "-- \tlocal prob, idx = makePrediction(toTest)\n",
    "-- \tlocal result = showResults(\"Random Noise\", i, prob, idx)\n",
    "-- \tif result == -1 then\n",
    "-- \t\timage.save(outPath .. save_name .. '_rand_noise_' .. 'strange_' .. i .. '.png', imgNoise)\n",
    "-- \telseif result == 0 then\n",
    "-- \t\timage.save(outPath .. save_name .. '_rand_noise_' .. 'correct_' .. i .. '.png', imgNoise)\n",
    "-- \tend\n",
    "-- end"
   ]
  },
  {
   "cell_type": "markdown",
   "metadata": {
    "collapsed": true
   },
   "source": [
    "-- --Try a negative image\n",
    "-- print('Negative Scaled Image')\n",
    "-- local toTest = -img + 255\n",
    "-- local norm = toTest:clone()\n",
    "-- if cuda then toTest = toTest:cuda():reshape(mnist.n) end\n",
    "-- --Get label\n",
    "-- local prob, idx = makePrediction(toTest)\n",
    "-- local result = showResults(\"Negative Image\", -1, prob, idx)\n",
    "-- if result == -1 then\n",
    "-- \timage.save(outPath .. save_name .. '_negative_' .. 'strange_' .. i .. '.png', norm)\n",
    "-- elseif result == 0 then\n",
    "-- \timage.save(outPath .. save_name .. '_negative_' .. 'correct_' .. i .. '.png', norm)\n",
    "-- end"
   ]
  },
  {
   "cell_type": "markdown",
   "metadata": {
    "collapsed": false
   },
   "source": [
    "-- --Subtract adverserial mean from the adv image\n",
    "-- print('Subtracting the mean of the adversarial spoofed label')\n",
    "\n",
    "-- for i = 0, 0.5, 0.025 do \n",
    "-- \tlocal toTest = img:float():add(-i*mnist.means[adv_label+1])\n",
    "-- \t--Renormalize\n",
    "-- \tlocal min = toTest:min()\n",
    "-- \tlocal max = toTest:max()\n",
    "-- \t--Renormalize values in [0, 255)\n",
    "-- \ttoTest = toTest:add(-min):div((max-min)/255.0):floor():byte()\n",
    "-- \tlocal norm = toTest:clone()\n",
    "-- \tif cuda then toTest = toTest:cuda():reshape(mnist.n) end\n",
    "-- \t--Get label\n",
    "-- \tlocal prob, idx = makePrediction(toTest)\n",
    "-- \tlocal result = showResults(\"Subtract Adv Mean\", i, prob, idx)\n",
    "-- \tif result == -1 then\n",
    "--         montage(3)\n",
    "-- \t\timage.save(outPath .. save_name .. '_sub_adv_mean_' .. 'strange_' .. i .. '.png', norm)\n",
    "-- \telseif result == 0 then\n",
    "--         montage(3)\n",
    "-- \t\timage.save(outPath .. save_name .. '_sub_adv_mean_' .. 'correct_' .. i .. '.png', norm)\n",
    "-- \tend\n",
    "\n",
    "-- end"
   ]
  },
  {
   "cell_type": "markdown",
   "metadata": {
    "collapsed": true
   },
   "source": [
    "-- --Apply a gaussian filter\n",
    "-- print('Try adding gaussian blur')\n",
    "-- local kern = image.gaussian()\n",
    "-- print(kern)\n",
    "-- toTest = img:float()\n",
    "-- toTest = image.convolve(toTest, kern, 'same'):byte()\n",
    "-- local norm = toTest:clone()\n",
    "-- if cuda then toTest = toTest:cuda():reshape(mnist.n) end\n",
    "-- --Get label\n",
    "-- local prob, idx = makePrediction(toTest)\n",
    "-- local result = showResults(\"Gaussian Blur\", i, prob, idx)\n",
    "-- if result == -1 then\n",
    "-- \timage.save(outPath .. save_name .. '_gaussian_' .. 'strange_' .. i .. '.png', norm)\n",
    "-- elseif result == 0 then\n",
    "-- \timage.save(outPath .. save_name .. '_gaussian_' .. 'correct_' .. i .. '.png', norm)\n",
    "-- end"
   ]
  },
  {
   "cell_type": "markdown",
   "metadata": {
    "collapsed": true
   },
   "source": [
    "-- --Apply a Laplacian filter\n",
    "-- print('Try adding laplacian filter')\n",
    "-- local kern = image.laplacian(3, 0.25, 1, true)\n",
    "-- toTest = norm:float()\n",
    "-- toTest = image.convolve(toTest, kern, 'same'):byte()\n",
    "-- local norm = toTest:clone()\n",
    "-- if cuda then toTest = toTest:cuda():reshape(mnist.n) end\n",
    "-- --Get label\n",
    "-- local prob, idx = makePrediction(toTest)\n",
    "-- local result = showResults(\"Laplacian Blur\", i, prob, idx)\n",
    "\n",
    "if result == -1 then\n",
    "\timage.save(outPath .. save_name .. '_laplacian_' .. 'strange_' .. i .. '.png', norm)\n",
    "elseif result == 0 then\n",
    "\timage.save(outPath .. save_name .. '_laplacian_' .. 'correct_' .. i .. '.png', norm)\n",
    "end"
   ]
  },
  {
   "cell_type": "code",
   "execution_count": null,
   "metadata": {
    "collapsed": true
   },
   "outputs": [],
   "source": []
  }
 ],
 "metadata": {
  "kernelspec": {
   "display_name": "iTorch",
   "language": "lua",
   "name": "itorch"
  },
  "language_info": {
   "name": "lua",
   "version": "5.1"
  }
 },
 "nbformat": 4,
 "nbformat_minor": 2
}
